{
 "cells": [
  {
   "attachments": {},
   "cell_type": "markdown",
   "metadata": {},
   "source": [
    "Realizamos un EDA de los dos datasets 'train.parquet' y 'test.parquet'. Para leer los archivos con formato parquet primero se deben instalar dos librerias: pysparoow y fasparquet."
   ]
  },
  {
   "cell_type": "code",
   "execution_count": 1,
   "metadata": {},
   "outputs": [],
   "source": [
    "import pandas as pd\n",
    "import matplotlib.pyplot as plt\n",
    "import seaborn as sns\n",
    "import sklearn"
   ]
  },
  {
   "cell_type": "code",
   "execution_count": 2,
   "metadata": {},
   "outputs": [],
   "source": [
    "train_df=pd.read_parquet(r\"Datasets/train.parquet\")\n",
    "test_df=pd.read_parquet(r\"Datasets/test.parquet\")\n"
   ]
  },
  {
   "cell_type": "code",
   "execution_count": 3,
   "metadata": {},
   "outputs": [
    {
     "data": {
      "text/html": [
       "<div>\n",
       "<style scoped>\n",
       "    .dataframe tbody tr th:only-of-type {\n",
       "        vertical-align: middle;\n",
       "    }\n",
       "\n",
       "    .dataframe tbody tr th {\n",
       "        vertical-align: top;\n",
       "    }\n",
       "\n",
       "    .dataframe thead th {\n",
       "        text-align: right;\n",
       "    }\n",
       "</style>\n",
       "<table border=\"1\" class=\"dataframe\">\n",
       "  <thead>\n",
       "    <tr style=\"text-align: right;\">\n",
       "      <th></th>\n",
       "      <th>id</th>\n",
       "      <th>url</th>\n",
       "      <th>region</th>\n",
       "      <th>region_url</th>\n",
       "      <th>price</th>\n",
       "      <th>type</th>\n",
       "      <th>sqfeet</th>\n",
       "      <th>beds</th>\n",
       "      <th>baths</th>\n",
       "      <th>cats_allowed</th>\n",
       "      <th>...</th>\n",
       "      <th>wheelchair_access</th>\n",
       "      <th>electric_vehicle_charge</th>\n",
       "      <th>comes_furnished</th>\n",
       "      <th>laundry_options</th>\n",
       "      <th>parking_options</th>\n",
       "      <th>image_url</th>\n",
       "      <th>description</th>\n",
       "      <th>lat</th>\n",
       "      <th>long</th>\n",
       "      <th>state</th>\n",
       "    </tr>\n",
       "  </thead>\n",
       "  <tbody>\n",
       "    <tr>\n",
       "      <th>0</th>\n",
       "      <td>7048013474</td>\n",
       "      <td>https://boise.craigslist.org/apa/d/very-nice-b...</td>\n",
       "      <td>boise</td>\n",
       "      <td>https://boise.craigslist.org</td>\n",
       "      <td>1350</td>\n",
       "      <td>house</td>\n",
       "      <td>1200</td>\n",
       "      <td>2</td>\n",
       "      <td>2.0</td>\n",
       "      <td>1</td>\n",
       "      <td>...</td>\n",
       "      <td>0</td>\n",
       "      <td>0</td>\n",
       "      <td>0</td>\n",
       "      <td>w/d in unit</td>\n",
       "      <td>detached garage</td>\n",
       "      <td>https://images.craigslist.org/00B0B_cPiJMEheZe...</td>\n",
       "      <td>Super cute row house in the Boise bench area. ...</td>\n",
       "      <td>43.5851</td>\n",
       "      <td>-116.2250</td>\n",
       "      <td>id</td>\n",
       "    </tr>\n",
       "    <tr>\n",
       "      <th>1</th>\n",
       "      <td>7043931179</td>\n",
       "      <td>https://cosprings.craigslist.org/apa/d/colorad...</td>\n",
       "      <td>colorado springs</td>\n",
       "      <td>https://cosprings.craigslist.org</td>\n",
       "      <td>1115</td>\n",
       "      <td>apartment</td>\n",
       "      <td>694</td>\n",
       "      <td>1</td>\n",
       "      <td>1.0</td>\n",
       "      <td>1</td>\n",
       "      <td>...</td>\n",
       "      <td>0</td>\n",
       "      <td>0</td>\n",
       "      <td>0</td>\n",
       "      <td>w/d in unit</td>\n",
       "      <td>carport</td>\n",
       "      <td>https://images.craigslist.org/00R0R_5XAoSKvfrz...</td>\n",
       "      <td>Windtree Apartment Homes currently has a spaci...</td>\n",
       "      <td>38.9137</td>\n",
       "      <td>-104.7800</td>\n",
       "      <td>co</td>\n",
       "    </tr>\n",
       "    <tr>\n",
       "      <th>2</th>\n",
       "      <td>7048254516</td>\n",
       "      <td>https://norfolk.craigslist.org/apa/d/virginia-...</td>\n",
       "      <td>norfolk / hampton roads</td>\n",
       "      <td>https://norfolk.craigslist.org</td>\n",
       "      <td>1129</td>\n",
       "      <td>apartment</td>\n",
       "      <td>900</td>\n",
       "      <td>2</td>\n",
       "      <td>2.0</td>\n",
       "      <td>0</td>\n",
       "      <td>...</td>\n",
       "      <td>0</td>\n",
       "      <td>0</td>\n",
       "      <td>0</td>\n",
       "      <td>w/d hookups</td>\n",
       "      <td>off-street parking</td>\n",
       "      <td>https://images.craigslist.org/00f0f_3ZbTFrsHpZ...</td>\n",
       "      <td>Call Today!  show contact info   Indian Lakes ...</td>\n",
       "      <td>36.7922</td>\n",
       "      <td>-76.1643</td>\n",
       "      <td>va</td>\n",
       "    </tr>\n",
       "  </tbody>\n",
       "</table>\n",
       "<p>3 rows × 22 columns</p>\n",
       "</div>"
      ],
      "text/plain": [
       "           id                                                url  \\\n",
       "0  7048013474  https://boise.craigslist.org/apa/d/very-nice-b...   \n",
       "1  7043931179  https://cosprings.craigslist.org/apa/d/colorad...   \n",
       "2  7048254516  https://norfolk.craigslist.org/apa/d/virginia-...   \n",
       "\n",
       "                    region                        region_url  price  \\\n",
       "0                    boise      https://boise.craigslist.org   1350   \n",
       "1         colorado springs  https://cosprings.craigslist.org   1115   \n",
       "2  norfolk / hampton roads    https://norfolk.craigslist.org   1129   \n",
       "\n",
       "        type  sqfeet  beds  baths  cats_allowed  ...  wheelchair_access  \\\n",
       "0      house    1200     2    2.0             1  ...                  0   \n",
       "1  apartment     694     1    1.0             1  ...                  0   \n",
       "2  apartment     900     2    2.0             0  ...                  0   \n",
       "\n",
       "   electric_vehicle_charge  comes_furnished  laundry_options  \\\n",
       "0                        0                0      w/d in unit   \n",
       "1                        0                0      w/d in unit   \n",
       "2                        0                0      w/d hookups   \n",
       "\n",
       "      parking_options                                          image_url  \\\n",
       "0     detached garage  https://images.craigslist.org/00B0B_cPiJMEheZe...   \n",
       "1             carport  https://images.craigslist.org/00R0R_5XAoSKvfrz...   \n",
       "2  off-street parking  https://images.craigslist.org/00f0f_3ZbTFrsHpZ...   \n",
       "\n",
       "                                         description      lat      long  state  \n",
       "0  Super cute row house in the Boise bench area. ...  43.5851 -116.2250     id  \n",
       "1  Windtree Apartment Homes currently has a spaci...  38.9137 -104.7800     co  \n",
       "2  Call Today!  show contact info   Indian Lakes ...  36.7922  -76.1643     va  \n",
       "\n",
       "[3 rows x 22 columns]"
      ]
     },
     "execution_count": 3,
     "metadata": {},
     "output_type": "execute_result"
    }
   ],
   "source": [
    "train_df.head(3)"
   ]
  },
  {
   "cell_type": "code",
   "execution_count": 4,
   "metadata": {},
   "outputs": [
    {
     "data": {
      "text/html": [
       "<div>\n",
       "<style scoped>\n",
       "    .dataframe tbody tr th:only-of-type {\n",
       "        vertical-align: middle;\n",
       "    }\n",
       "\n",
       "    .dataframe tbody tr th {\n",
       "        vertical-align: top;\n",
       "    }\n",
       "\n",
       "    .dataframe thead th {\n",
       "        text-align: right;\n",
       "    }\n",
       "</style>\n",
       "<table border=\"1\" class=\"dataframe\">\n",
       "  <thead>\n",
       "    <tr style=\"text-align: right;\">\n",
       "      <th></th>\n",
       "      <th>id</th>\n",
       "      <th>url</th>\n",
       "      <th>region</th>\n",
       "      <th>region_url</th>\n",
       "      <th>type</th>\n",
       "      <th>sqfeet</th>\n",
       "      <th>beds</th>\n",
       "      <th>baths</th>\n",
       "      <th>cats_allowed</th>\n",
       "      <th>dogs_allowed</th>\n",
       "      <th>...</th>\n",
       "      <th>wheelchair_access</th>\n",
       "      <th>electric_vehicle_charge</th>\n",
       "      <th>comes_furnished</th>\n",
       "      <th>laundry_options</th>\n",
       "      <th>parking_options</th>\n",
       "      <th>image_url</th>\n",
       "      <th>description</th>\n",
       "      <th>lat</th>\n",
       "      <th>long</th>\n",
       "      <th>state</th>\n",
       "    </tr>\n",
       "  </thead>\n",
       "  <tbody>\n",
       "    <tr>\n",
       "      <th>0</th>\n",
       "      <td>7037609789</td>\n",
       "      <td>https://annarbor.craigslist.org/apa/d/wixom-ho...</td>\n",
       "      <td>ann arbor</td>\n",
       "      <td>https://annarbor.craigslist.org</td>\n",
       "      <td>manufactured</td>\n",
       "      <td>1344</td>\n",
       "      <td>3</td>\n",
       "      <td>2.0</td>\n",
       "      <td>0</td>\n",
       "      <td>0</td>\n",
       "      <td>...</td>\n",
       "      <td>0</td>\n",
       "      <td>0</td>\n",
       "      <td>0</td>\n",
       "      <td>w/d in unit</td>\n",
       "      <td>off-street parking</td>\n",
       "      <td>https://images.craigslist.org/00M0M_iNczP1nzIL...</td>\n",
       "      <td>OPEN HOUSE TODAY! APPLY THIS WEEK, PUT A HOLDI...</td>\n",
       "      <td>42.5333</td>\n",
       "      <td>-83.5763</td>\n",
       "      <td>mi</td>\n",
       "    </tr>\n",
       "    <tr>\n",
       "      <th>1</th>\n",
       "      <td>7032406876</td>\n",
       "      <td>https://vermont.craigslist.org/apa/d/randolph-...</td>\n",
       "      <td>vermont</td>\n",
       "      <td>https://vermont.craigslist.org</td>\n",
       "      <td>apartment</td>\n",
       "      <td>1050</td>\n",
       "      <td>2</td>\n",
       "      <td>1.0</td>\n",
       "      <td>0</td>\n",
       "      <td>0</td>\n",
       "      <td>...</td>\n",
       "      <td>0</td>\n",
       "      <td>0</td>\n",
       "      <td>0</td>\n",
       "      <td>w/d hookups</td>\n",
       "      <td>off-street parking</td>\n",
       "      <td>https://images.craigslist.org/00L0L_ecirmYBIzL...</td>\n",
       "      <td>Think of it, you'll be first to get your mail....</td>\n",
       "      <td>43.9393</td>\n",
       "      <td>-72.5538</td>\n",
       "      <td>vt</td>\n",
       "    </tr>\n",
       "    <tr>\n",
       "      <th>2</th>\n",
       "      <td>7037022682</td>\n",
       "      <td>https://annarbor.craigslist.org/apa/d/ann-arbo...</td>\n",
       "      <td>ann arbor</td>\n",
       "      <td>https://annarbor.craigslist.org</td>\n",
       "      <td>apartment</td>\n",
       "      <td>1150</td>\n",
       "      <td>2</td>\n",
       "      <td>2.0</td>\n",
       "      <td>1</td>\n",
       "      <td>1</td>\n",
       "      <td>...</td>\n",
       "      <td>1</td>\n",
       "      <td>0</td>\n",
       "      <td>0</td>\n",
       "      <td>w/d in unit</td>\n",
       "      <td>carport</td>\n",
       "      <td>https://images.craigslist.org/00e0e_dPln2xjo9g...</td>\n",
       "      <td>One of Ann Arbor's most luxurious apartment co...</td>\n",
       "      <td>42.2492</td>\n",
       "      <td>-83.7712</td>\n",
       "      <td>mi</td>\n",
       "    </tr>\n",
       "  </tbody>\n",
       "</table>\n",
       "<p>3 rows × 21 columns</p>\n",
       "</div>"
      ],
      "text/plain": [
       "           id                                                url     region  \\\n",
       "0  7037609789  https://annarbor.craigslist.org/apa/d/wixom-ho...  ann arbor   \n",
       "1  7032406876  https://vermont.craigslist.org/apa/d/randolph-...    vermont   \n",
       "2  7037022682  https://annarbor.craigslist.org/apa/d/ann-arbo...  ann arbor   \n",
       "\n",
       "                        region_url          type  sqfeet  beds  baths  \\\n",
       "0  https://annarbor.craigslist.org  manufactured    1344     3    2.0   \n",
       "1   https://vermont.craigslist.org     apartment    1050     2    1.0   \n",
       "2  https://annarbor.craigslist.org     apartment    1150     2    2.0   \n",
       "\n",
       "   cats_allowed  dogs_allowed  ...  wheelchair_access  \\\n",
       "0             0             0  ...                  0   \n",
       "1             0             0  ...                  0   \n",
       "2             1             1  ...                  1   \n",
       "\n",
       "   electric_vehicle_charge  comes_furnished  laundry_options  \\\n",
       "0                        0                0      w/d in unit   \n",
       "1                        0                0      w/d hookups   \n",
       "2                        0                0      w/d in unit   \n",
       "\n",
       "      parking_options                                          image_url  \\\n",
       "0  off-street parking  https://images.craigslist.org/00M0M_iNczP1nzIL...   \n",
       "1  off-street parking  https://images.craigslist.org/00L0L_ecirmYBIzL...   \n",
       "2             carport  https://images.craigslist.org/00e0e_dPln2xjo9g...   \n",
       "\n",
       "                                         description      lat     long  state  \n",
       "0  OPEN HOUSE TODAY! APPLY THIS WEEK, PUT A HOLDI...  42.5333 -83.5763     mi  \n",
       "1  Think of it, you'll be first to get your mail....  43.9393 -72.5538     vt  \n",
       "2  One of Ann Arbor's most luxurious apartment co...  42.2492 -83.7712     mi  \n",
       "\n",
       "[3 rows x 21 columns]"
      ]
     },
     "execution_count": 4,
     "metadata": {},
     "output_type": "execute_result"
    }
   ],
   "source": [
    "test_df.head(3)"
   ]
  },
  {
   "cell_type": "code",
   "execution_count": 5,
   "metadata": {},
   "outputs": [
    {
     "name": "stdout",
     "output_type": "stream",
     "text": [
      "<class 'pandas.core.frame.DataFrame'>\n",
      "RangeIndex: 346479 entries, 0 to 346478\n",
      "Data columns (total 22 columns):\n",
      " #   Column                   Non-Null Count   Dtype  \n",
      "---  ------                   --------------   -----  \n",
      " 0   id                       346479 non-null  int64  \n",
      " 1   url                      346479 non-null  object \n",
      " 2   region                   346479 non-null  object \n",
      " 3   region_url               346479 non-null  object \n",
      " 4   price                    346479 non-null  int64  \n",
      " 5   type                     346479 non-null  object \n",
      " 6   sqfeet                   346479 non-null  int64  \n",
      " 7   beds                     346479 non-null  int64  \n",
      " 8   baths                    346479 non-null  float64\n",
      " 9   cats_allowed             346479 non-null  int64  \n",
      " 10  dogs_allowed             346479 non-null  int64  \n",
      " 11  smoking_allowed          346479 non-null  int64  \n",
      " 12  wheelchair_access        346479 non-null  int64  \n",
      " 13  electric_vehicle_charge  346479 non-null  int64  \n",
      " 14  comes_furnished          346479 non-null  int64  \n",
      " 15  laundry_options          275308 non-null  object \n",
      " 16  parking_options          219797 non-null  object \n",
      " 17  image_url                346479 non-null  object \n",
      " 18  description              346477 non-null  object \n",
      " 19  lat                      344757 non-null  float64\n",
      " 20  long                     344757 non-null  float64\n",
      " 21  state                    346479 non-null  object \n",
      "dtypes: float64(3), int64(10), object(9)\n",
      "memory usage: 58.2+ MB\n"
     ]
    }
   ],
   "source": [
    "train_df.info()\n"
   ]
  },
  {
   "cell_type": "code",
   "execution_count": 6,
   "metadata": {},
   "outputs": [
    {
     "name": "stdout",
     "output_type": "stream",
     "text": [
      "<class 'pandas.core.frame.DataFrame'>\n",
      "RangeIndex: 38498 entries, 0 to 38497\n",
      "Data columns (total 21 columns):\n",
      " #   Column                   Non-Null Count  Dtype  \n",
      "---  ------                   --------------  -----  \n",
      " 0   id                       38498 non-null  int64  \n",
      " 1   url                      38498 non-null  object \n",
      " 2   region                   38498 non-null  object \n",
      " 3   region_url               38498 non-null  object \n",
      " 4   type                     38498 non-null  object \n",
      " 5   sqfeet                   38498 non-null  int64  \n",
      " 6   beds                     38498 non-null  int64  \n",
      " 7   baths                    38498 non-null  float64\n",
      " 8   cats_allowed             38498 non-null  int64  \n",
      " 9   dogs_allowed             38498 non-null  int64  \n",
      " 10  smoking_allowed          38498 non-null  int64  \n",
      " 11  wheelchair_access        38498 non-null  int64  \n",
      " 12  electric_vehicle_charge  38498 non-null  int64  \n",
      " 13  comes_furnished          38498 non-null  int64  \n",
      " 14  laundry_options          30643 non-null  object \n",
      " 15  parking_options          24493 non-null  object \n",
      " 16  image_url                38498 non-null  object \n",
      " 17  description              38498 non-null  object \n",
      " 18  lat                      38302 non-null  float64\n",
      " 19  long                     38302 non-null  float64\n",
      " 20  state                    38498 non-null  object \n",
      "dtypes: float64(3), int64(9), object(9)\n",
      "memory usage: 6.2+ MB\n"
     ]
    }
   ],
   "source": [
    "test_df.info()\n"
   ]
  },
  {
   "attachments": {},
   "cell_type": "markdown",
   "metadata": {},
   "source": [
    " Vamos a ver los valores nulos en el conjunto de datos\n"
   ]
  },
  {
   "cell_type": "code",
   "execution_count": 7,
   "metadata": {},
   "outputs": [
    {
     "data": {
      "text/plain": [
       "id                              0\n",
       "url                             0\n",
       "region                          0\n",
       "region_url                      0\n",
       "price                           0\n",
       "type                            0\n",
       "sqfeet                          0\n",
       "beds                            0\n",
       "baths                           0\n",
       "cats_allowed                    0\n",
       "dogs_allowed                    0\n",
       "smoking_allowed                 0\n",
       "wheelchair_access               0\n",
       "electric_vehicle_charge         0\n",
       "comes_furnished                 0\n",
       "laundry_options             71171\n",
       "parking_options            126682\n",
       "image_url                       0\n",
       "description                     2\n",
       "lat                          1722\n",
       "long                         1722\n",
       "state                           0\n",
       "dtype: int64"
      ]
     },
     "execution_count": 7,
     "metadata": {},
     "output_type": "execute_result"
    }
   ],
   "source": [
    "train_df.isnull().sum()"
   ]
  },
  {
   "attachments": {},
   "cell_type": "markdown",
   "metadata": {},
   "source": [
    "ver la distribución de los valores en las columnas categóricas\n"
   ]
  },
  {
   "cell_type": "code",
   "execution_count": 8,
   "metadata": {},
   "outputs": [
    {
     "name": "stdout",
     "output_type": "stream",
     "text": [
      "                                                      url        region  \\\n",
      "count                                              346479        346479   \n",
      "unique                                             346479           404   \n",
      "top     https://boise.craigslist.org/apa/d/very-nice-b...  jacksonville   \n",
      "freq                                                    1          3849   \n",
      "\n",
      "                          region_url       type laundry_options  \\\n",
      "count                         346479     346479          275308   \n",
      "unique                           413         12               5   \n",
      "top     https://omaha.craigslist.org  apartment     w/d in unit   \n",
      "freq                            2465     286303          118627   \n",
      "\n",
      "           parking_options                                          image_url  \\\n",
      "count               219797                                             346479   \n",
      "unique                   7                                             168246   \n",
      "top     off-street parking  https://images.craigslist.org/00R0R_ciYsssEFRe...   \n",
      "freq                115612                                                363   \n",
      "\n",
      "                                              description   state  \n",
      "count                                              346477  346479  \n",
      "unique                                             254990      51  \n",
      "top     ***Special Move in Today!! $199 With Deposit**...      ca  \n",
      "freq                                                  467   29791  \n"
     ]
    }
   ],
   "source": [
    "print(train_df.describe(include=['object']))"
   ]
  },
  {
   "attachments": {},
   "cell_type": "markdown",
   "metadata": {},
   "source": [
    "Graficamos las varaibles numéricas para ver su distribución."
   ]
  },
  {
   "cell_type": "code",
   "execution_count": 9,
   "metadata": {},
   "outputs": [
    {
     "data": {
      "image/png": "[encoded data removed]",
      "text/plain": [
       "<Figure size 1440x1080 with 16 Axes>"
      ]
     },
     "metadata": {
      "needs_background": "light"
     },
     "output_type": "display_data"
    }
   ],
   "source": [
    "train_df.hist(bins=50, figsize=(20,15))\n",
    "plt.show()"
   ]
  },
  {
   "attachments": {},
   "cell_type": "markdown",
   "metadata": {},
   "source": [
    "veamos un mapa de calor de la correlacion entre las variables"
   ]
  },
  {
   "cell_type": "code",
   "execution_count": 10,
   "metadata": {},
   "outputs": [
    {
     "name": "stderr",
     "output_type": "stream",
     "text": [
      "C:\\Users\\camil\\AppData\\Local\\Temp\\ipykernel_15860\\2358958035.py:2: FutureWarning: The default value of numeric_only in DataFrame.corr is deprecated. In a future version, it will default to False. Select only valid columns or specify the value of numeric_only to silence this warning.\n",
      "  sns.heatmap(train_df.corr(),cmap=plt.cm.Reds,annot=True)\n"
     ]
    },
    {
     "data": {
      "image/png": "[encoded data removed]",
      "text/plain": [
       "<Figure size 1584x1152 with 2 Axes>"
      ]
     },
     "metadata": {
      "needs_background": "light"
     },
     "output_type": "display_data"
    }
   ],
   "source": [
    "plt.figure(figsize=(22,16))\n",
    "sns.heatmap(train_df.corr(),cmap=plt.cm.Reds,annot=True)\n",
    "plt.title('Mapa de calor que muestra la relación entre las características de los datos',\n",
    "         fontsize=13)\n",
    "plt.show()"
   ]
  },
  {
   "attachments": {},
   "cell_type": "markdown",
   "metadata": {},
   "source": [
    "veamos la frecuencia en 'laundry_options'"
   ]
  },
  {
   "cell_type": "code",
   "execution_count": 11,
   "metadata": {},
   "outputs": [
    {
     "data": {
      "text/plain": [
       "w/d in unit           118627\n",
       "w/d hookups            67941\n",
       "laundry on site        52949\n",
       "laundry in bldg        32513\n",
       "no laundry on site      3278\n",
       "Name: laundry_options, dtype: int64"
      ]
     },
     "execution_count": 11,
     "metadata": {},
     "output_type": "execute_result"
    }
   ],
   "source": [
    "train_df['laundry_options'].value_counts ()"
   ]
  },
  {
   "cell_type": "code",
   "execution_count": 12,
   "metadata": {},
   "outputs": [],
   "source": [
    "#vamos a rellenar con la moda\n",
    "moda = train_df['laundry_options'].mode()[0]\n",
    "train_df['laundry_options'] = train_df['laundry_options'].fillna(moda)"
   ]
  },
  {
   "attachments": {},
   "cell_type": "markdown",
   "metadata": {},
   "source": [
    "veamos la frecuencia en 'parking_options'"
   ]
  },
  {
   "cell_type": "code",
   "execution_count": 13,
   "metadata": {},
   "outputs": [
    {
     "data": {
      "text/plain": [
       "off-street parking    115612\n",
       "attached garage        36428\n",
       "carport                35048\n",
       "detached garage        15314\n",
       "street parking         14370\n",
       "no parking              2882\n",
       "valet parking            143\n",
       "Name: parking_options, dtype: int64"
      ]
     },
     "execution_count": 13,
     "metadata": {},
     "output_type": "execute_result"
    }
   ],
   "source": [
    "train_df['parking_options'].value_counts ()"
   ]
  },
  {
   "cell_type": "code",
   "execution_count": 14,
   "metadata": {},
   "outputs": [],
   "source": [
    "#vamos a rellenar con la moda\n",
    "moda_1 = train_df['laundry_options'].mode()[0]\n",
    "train_df['parking_options'] = train_df['parking_options'].fillna(moda_1)"
   ]
  },
  {
   "attachments": {},
   "cell_type": "markdown",
   "metadata": {},
   "source": [
    "vamos a eliminar las filas con valores faltantes en las columnas 'lat' y 'long'"
   ]
  },
  {
   "cell_type": "code",
   "execution_count": 15,
   "metadata": {},
   "outputs": [],
   "source": [
    "train_df.dropna(subset=['lat', 'long'], inplace=True)\n"
   ]
  },
  {
   "attachments": {},
   "cell_type": "markdown",
   "metadata": {},
   "source": [
    "Vamos a eliminar las columnas que no aportan información al modelo, las cuales son 'id', 'url', 'region_url', 'image_url' y 'description'"
   ]
  },
  {
   "cell_type": "code",
   "execution_count": 16,
   "metadata": {},
   "outputs": [],
   "source": [
    "train_df.drop(['id', 'url', 'region_url', 'image_url','description'], axis=1, inplace=True)"
   ]
  },
  {
   "attachments": {},
   "cell_type": "markdown",
   "metadata": {},
   "source": [
    "Vamos a ver un bloxplot para las variables 'lat' y 'long' con el fin de detectar outliers, en este caso los outliers posiblemnente corresponderán a ciudades que no se encuentren en Estados Unidos."
   ]
  },
  {
   "cell_type": "code",
   "execution_count": 17,
   "metadata": {},
   "outputs": [
    {
     "data": {
      "image/png": "[encoded data removed]",
      "text/plain": [
       "<Figure size 432x288 with 1 Axes>"
      ]
     },
     "metadata": {
      "needs_background": "light"
     },
     "output_type": "display_data"
    }
   ],
   "source": [
    "# Creamos un gráfico de caja para la columna 'lat'\n",
    "plt.boxplot(train_df['lat'], showfliers=True)\n",
    "plt.title('Gráfico de caja para la columna \"lat\"')\n",
    "plt.show()\n"
   ]
  },
  {
   "cell_type": "code",
   "execution_count": 18,
   "metadata": {},
   "outputs": [
    {
     "data": {
      "image/png": "[encoded data removed]",
      "text/plain": [
       "<Figure size 432x288 with 1 Axes>"
      ]
     },
     "metadata": {
      "needs_background": "light"
     },
     "output_type": "display_data"
    }
   ],
   "source": [
    "# Creamos un gráfico de caja para la columna 'long'\n",
    "plt.boxplot(train_df['long'], showfliers=True)\n",
    "plt.title('Gráfico de caja para la columna \"long\"')\n",
    "plt.show()\n"
   ]
  },
  {
   "attachments": {},
   "cell_type": "markdown",
   "metadata": {},
   "source": [
    "La latitud de los Estados Unidos varía desde aproximadamente 25 grados sur en la frontera entre México y Texas hasta 49 grados norte en la frontera entre Alaska y Canadá. La longitud de los Estados Unidos varía desde aproximadamente 170 grados oeste en Alaska hasta 67 grados oeste en Maine.\n",
    "Vamos a eliminar todos los valores en 'lat' y 'long' que esten por fuera de esos rangos."
   ]
  },
  {
   "cell_type": "code",
   "execution_count": 19,
   "metadata": {},
   "outputs": [],
   "source": [
    "## Creamos una máscara booleana para las filas que cumplen con los criterios de latitud y longitud\n",
    "mask= (train_df['lat']>=25) & (train_df['lat']<=49) & (train_df['long']>=-167) & (train_df['long']<=-65)\n",
    "    "
   ]
  },
  {
   "attachments": {},
   "cell_type": "markdown",
   "metadata": {},
   "source": [
    "Nota: la longitud se mide en grados desde el Meridiano de Greenwich, que es el punto de referencia para medir la longitud. Los puntos al este del Meridiano de Greenwich tienen longitudes positivas, mientras que los puntos al oeste tienen longitudes negativas.\n",
    "En el caso de Estados Unidos, la mayoría de los estados están al oeste del Meridiano de Greenwich, por lo que sus longitudes son negativas. Por eso, en el código anterior, se utilizaron valores negativos para definir el rango de longitudes válido."
   ]
  },
  {
   "attachments": {},
   "cell_type": "markdown",
   "metadata": {},
   "source": [
    "<p align=\"center\">\n",
    "  <img width=\"600\" height=\"400\" src=\"Images/mapaEEUU.png\">\n",
    "</p>"
   ]
  },
  {
   "cell_type": "code",
   "execution_count": 20,
   "metadata": {},
   "outputs": [
    {
     "data": {
      "text/plain": [
       "True     340551\n",
       "False      4206\n",
       "dtype: int64"
      ]
     },
     "execution_count": 20,
     "metadata": {},
     "output_type": "execute_result"
    }
   ],
   "source": [
    "mask.value_counts()"
   ]
  },
  {
   "cell_type": "code",
   "execution_count": 21,
   "metadata": {},
   "outputs": [],
   "source": [
    "# Usamos la máscara para eliminar las filas que no cumplen con los criterios\n",
    "train_df = train_df[mask]"
   ]
  },
  {
   "cell_type": "code",
   "execution_count": 22,
   "metadata": {},
   "outputs": [
    {
     "name": "stdout",
     "output_type": "stream",
     "text": [
      "<class 'pandas.core.frame.DataFrame'>\n",
      "Int64Index: 340551 entries, 0 to 346478\n",
      "Data columns (total 17 columns):\n",
      " #   Column                   Non-Null Count   Dtype  \n",
      "---  ------                   --------------   -----  \n",
      " 0   region                   340551 non-null  object \n",
      " 1   price                    340551 non-null  int64  \n",
      " 2   type                     340551 non-null  object \n",
      " 3   sqfeet                   340551 non-null  int64  \n",
      " 4   beds                     340551 non-null  int64  \n",
      " 5   baths                    340551 non-null  float64\n",
      " 6   cats_allowed             340551 non-null  int64  \n",
      " 7   dogs_allowed             340551 non-null  int64  \n",
      " 8   smoking_allowed          340551 non-null  int64  \n",
      " 9   wheelchair_access        340551 non-null  int64  \n",
      " 10  electric_vehicle_charge  340551 non-null  int64  \n",
      " 11  comes_furnished          340551 non-null  int64  \n",
      " 12  laundry_options          340551 non-null  object \n",
      " 13  parking_options          340551 non-null  object \n",
      " 14  lat                      340551 non-null  float64\n",
      " 15  long                     340551 non-null  float64\n",
      " 16  state                    340551 non-null  object \n",
      "dtypes: float64(3), int64(9), object(5)\n",
      "memory usage: 46.8+ MB\n"
     ]
    }
   ],
   "source": [
    "train_df.info()"
   ]
  },
  {
   "cell_type": "code",
   "execution_count": 23,
   "metadata": {},
   "outputs": [],
   "source": [
    "# Creamos la función para clasificar el precio\n",
    "def classify_price(price):\n",
    "    if price < 1000:\n",
    "        return 'low'\n",
    "    else:\n",
    "        return 'high'\n",
    "\n",
    "# Creamos la columna 'category_price'\n",
    "train_df['category_price'] = train_df['price'].apply(classify_price)\n"
   ]
  },
  {
   "cell_type": "code",
   "execution_count": 24,
   "metadata": {},
   "outputs": [
    {
     "data": {
      "text/html": [
       "<div>\n",
       "<style scoped>\n",
       "    .dataframe tbody tr th:only-of-type {\n",
       "        vertical-align: middle;\n",
       "    }\n",
       "\n",
       "    .dataframe tbody tr th {\n",
       "        vertical-align: top;\n",
       "    }\n",
       "\n",
       "    .dataframe thead th {\n",
       "        text-align: right;\n",
       "    }\n",
       "</style>\n",
       "<table border=\"1\" class=\"dataframe\">\n",
       "  <thead>\n",
       "    <tr style=\"text-align: right;\">\n",
       "      <th></th>\n",
       "      <th>region</th>\n",
       "      <th>price</th>\n",
       "      <th>type</th>\n",
       "      <th>sqfeet</th>\n",
       "      <th>beds</th>\n",
       "      <th>baths</th>\n",
       "      <th>cats_allowed</th>\n",
       "      <th>dogs_allowed</th>\n",
       "      <th>smoking_allowed</th>\n",
       "      <th>wheelchair_access</th>\n",
       "      <th>electric_vehicle_charge</th>\n",
       "      <th>comes_furnished</th>\n",
       "      <th>laundry_options</th>\n",
       "      <th>parking_options</th>\n",
       "      <th>lat</th>\n",
       "      <th>long</th>\n",
       "      <th>state</th>\n",
       "      <th>category_price</th>\n",
       "    </tr>\n",
       "  </thead>\n",
       "  <tbody>\n",
       "    <tr>\n",
       "      <th>0</th>\n",
       "      <td>boise</td>\n",
       "      <td>1350</td>\n",
       "      <td>house</td>\n",
       "      <td>1200</td>\n",
       "      <td>2</td>\n",
       "      <td>2.0</td>\n",
       "      <td>1</td>\n",
       "      <td>1</td>\n",
       "      <td>1</td>\n",
       "      <td>0</td>\n",
       "      <td>0</td>\n",
       "      <td>0</td>\n",
       "      <td>w/d in unit</td>\n",
       "      <td>detached garage</td>\n",
       "      <td>43.5851</td>\n",
       "      <td>-116.2250</td>\n",
       "      <td>id</td>\n",
       "      <td>high</td>\n",
       "    </tr>\n",
       "    <tr>\n",
       "      <th>1</th>\n",
       "      <td>colorado springs</td>\n",
       "      <td>1115</td>\n",
       "      <td>apartment</td>\n",
       "      <td>694</td>\n",
       "      <td>1</td>\n",
       "      <td>1.0</td>\n",
       "      <td>1</td>\n",
       "      <td>1</td>\n",
       "      <td>1</td>\n",
       "      <td>0</td>\n",
       "      <td>0</td>\n",
       "      <td>0</td>\n",
       "      <td>w/d in unit</td>\n",
       "      <td>carport</td>\n",
       "      <td>38.9137</td>\n",
       "      <td>-104.7800</td>\n",
       "      <td>co</td>\n",
       "      <td>high</td>\n",
       "    </tr>\n",
       "    <tr>\n",
       "      <th>2</th>\n",
       "      <td>norfolk / hampton roads</td>\n",
       "      <td>1129</td>\n",
       "      <td>apartment</td>\n",
       "      <td>900</td>\n",
       "      <td>2</td>\n",
       "      <td>2.0</td>\n",
       "      <td>0</td>\n",
       "      <td>0</td>\n",
       "      <td>1</td>\n",
       "      <td>0</td>\n",
       "      <td>0</td>\n",
       "      <td>0</td>\n",
       "      <td>w/d hookups</td>\n",
       "      <td>off-street parking</td>\n",
       "      <td>36.7922</td>\n",
       "      <td>-76.1643</td>\n",
       "      <td>va</td>\n",
       "      <td>high</td>\n",
       "    </tr>\n",
       "    <tr>\n",
       "      <th>3</th>\n",
       "      <td>phoenix</td>\n",
       "      <td>1580</td>\n",
       "      <td>house</td>\n",
       "      <td>1469</td>\n",
       "      <td>3</td>\n",
       "      <td>2.0</td>\n",
       "      <td>1</td>\n",
       "      <td>1</td>\n",
       "      <td>1</td>\n",
       "      <td>0</td>\n",
       "      <td>0</td>\n",
       "      <td>0</td>\n",
       "      <td>w/d in unit</td>\n",
       "      <td>w/d in unit</td>\n",
       "      <td>33.5623</td>\n",
       "      <td>-112.0560</td>\n",
       "      <td>az</td>\n",
       "      <td>high</td>\n",
       "    </tr>\n",
       "    <tr>\n",
       "      <th>4</th>\n",
       "      <td>nashville</td>\n",
       "      <td>995</td>\n",
       "      <td>apartment</td>\n",
       "      <td>700</td>\n",
       "      <td>1</td>\n",
       "      <td>1.0</td>\n",
       "      <td>1</td>\n",
       "      <td>1</td>\n",
       "      <td>1</td>\n",
       "      <td>0</td>\n",
       "      <td>0</td>\n",
       "      <td>0</td>\n",
       "      <td>w/d in unit</td>\n",
       "      <td>carport</td>\n",
       "      <td>36.0595</td>\n",
       "      <td>-86.6592</td>\n",
       "      <td>tn</td>\n",
       "      <td>low</td>\n",
       "    </tr>\n",
       "    <tr>\n",
       "      <th>...</th>\n",
       "      <td>...</td>\n",
       "      <td>...</td>\n",
       "      <td>...</td>\n",
       "      <td>...</td>\n",
       "      <td>...</td>\n",
       "      <td>...</td>\n",
       "      <td>...</td>\n",
       "      <td>...</td>\n",
       "      <td>...</td>\n",
       "      <td>...</td>\n",
       "      <td>...</td>\n",
       "      <td>...</td>\n",
       "      <td>...</td>\n",
       "      <td>...</td>\n",
       "      <td>...</td>\n",
       "      <td>...</td>\n",
       "      <td>...</td>\n",
       "      <td>...</td>\n",
       "    </tr>\n",
       "    <tr>\n",
       "      <th>346474</th>\n",
       "      <td>evansville</td>\n",
       "      <td>672</td>\n",
       "      <td>apartment</td>\n",
       "      <td>660</td>\n",
       "      <td>1</td>\n",
       "      <td>1.0</td>\n",
       "      <td>1</td>\n",
       "      <td>1</td>\n",
       "      <td>1</td>\n",
       "      <td>0</td>\n",
       "      <td>0</td>\n",
       "      <td>0</td>\n",
       "      <td>laundry on site</td>\n",
       "      <td>w/d in unit</td>\n",
       "      <td>37.9591</td>\n",
       "      <td>-87.5293</td>\n",
       "      <td>in</td>\n",
       "      <td>low</td>\n",
       "    </tr>\n",
       "    <tr>\n",
       "      <th>346475</th>\n",
       "      <td>san diego</td>\n",
       "      <td>2122</td>\n",
       "      <td>apartment</td>\n",
       "      <td>1099</td>\n",
       "      <td>2</td>\n",
       "      <td>2.0</td>\n",
       "      <td>1</td>\n",
       "      <td>1</td>\n",
       "      <td>1</td>\n",
       "      <td>0</td>\n",
       "      <td>0</td>\n",
       "      <td>0</td>\n",
       "      <td>w/d in unit</td>\n",
       "      <td>off-street parking</td>\n",
       "      <td>32.6279</td>\n",
       "      <td>-117.0370</td>\n",
       "      <td>ca</td>\n",
       "      <td>high</td>\n",
       "    </tr>\n",
       "    <tr>\n",
       "      <th>346476</th>\n",
       "      <td>columbia</td>\n",
       "      <td>1014</td>\n",
       "      <td>apartment</td>\n",
       "      <td>1104</td>\n",
       "      <td>2</td>\n",
       "      <td>2.0</td>\n",
       "      <td>1</td>\n",
       "      <td>1</td>\n",
       "      <td>0</td>\n",
       "      <td>0</td>\n",
       "      <td>0</td>\n",
       "      <td>0</td>\n",
       "      <td>w/d hookups</td>\n",
       "      <td>off-street parking</td>\n",
       "      <td>33.9659</td>\n",
       "      <td>-80.9355</td>\n",
       "      <td>sc</td>\n",
       "      <td>high</td>\n",
       "    </tr>\n",
       "    <tr>\n",
       "      <th>346477</th>\n",
       "      <td>north dakota</td>\n",
       "      <td>935</td>\n",
       "      <td>apartment</td>\n",
       "      <td>1050</td>\n",
       "      <td>2</td>\n",
       "      <td>2.0</td>\n",
       "      <td>0</td>\n",
       "      <td>0</td>\n",
       "      <td>0</td>\n",
       "      <td>0</td>\n",
       "      <td>0</td>\n",
       "      <td>0</td>\n",
       "      <td>w/d in unit</td>\n",
       "      <td>detached garage</td>\n",
       "      <td>48.1995</td>\n",
       "      <td>-101.2800</td>\n",
       "      <td>nd</td>\n",
       "      <td>low</td>\n",
       "    </tr>\n",
       "    <tr>\n",
       "      <th>346478</th>\n",
       "      <td>buffalo</td>\n",
       "      <td>1300</td>\n",
       "      <td>apartment</td>\n",
       "      <td>1350</td>\n",
       "      <td>2</td>\n",
       "      <td>2.0</td>\n",
       "      <td>1</td>\n",
       "      <td>0</td>\n",
       "      <td>1</td>\n",
       "      <td>0</td>\n",
       "      <td>0</td>\n",
       "      <td>0</td>\n",
       "      <td>w/d in unit</td>\n",
       "      <td>off-street parking</td>\n",
       "      <td>42.8997</td>\n",
       "      <td>-78.8803</td>\n",
       "      <td>ny</td>\n",
       "      <td>high</td>\n",
       "    </tr>\n",
       "  </tbody>\n",
       "</table>\n",
       "<p>340551 rows × 18 columns</p>\n",
       "</div>"
      ],
      "text/plain": [
       "                         region  price       type  sqfeet  beds  baths  \\\n",
       "0                         boise   1350      house    1200     2    2.0   \n",
       "1              colorado springs   1115  apartment     694     1    1.0   \n",
       "2       norfolk / hampton roads   1129  apartment     900     2    2.0   \n",
       "3                       phoenix   1580      house    1469     3    2.0   \n",
       "4                     nashville    995  apartment     700     1    1.0   \n",
       "...                         ...    ...        ...     ...   ...    ...   \n",
       "346474               evansville    672  apartment     660     1    1.0   \n",
       "346475                san diego   2122  apartment    1099     2    2.0   \n",
       "346476                 columbia   1014  apartment    1104     2    2.0   \n",
       "346477             north dakota    935  apartment    1050     2    2.0   \n",
       "346478                  buffalo   1300  apartment    1350     2    2.0   \n",
       "\n",
       "        cats_allowed  dogs_allowed  smoking_allowed  wheelchair_access  \\\n",
       "0                  1             1                1                  0   \n",
       "1                  1             1                1                  0   \n",
       "2                  0             0                1                  0   \n",
       "3                  1             1                1                  0   \n",
       "4                  1             1                1                  0   \n",
       "...              ...           ...              ...                ...   \n",
       "346474             1             1                1                  0   \n",
       "346475             1             1                1                  0   \n",
       "346476             1             1                0                  0   \n",
       "346477             0             0                0                  0   \n",
       "346478             1             0                1                  0   \n",
       "\n",
       "        electric_vehicle_charge  comes_furnished  laundry_options  \\\n",
       "0                             0                0      w/d in unit   \n",
       "1                             0                0      w/d in unit   \n",
       "2                             0                0      w/d hookups   \n",
       "3                             0                0      w/d in unit   \n",
       "4                             0                0      w/d in unit   \n",
       "...                         ...              ...              ...   \n",
       "346474                        0                0  laundry on site   \n",
       "346475                        0                0      w/d in unit   \n",
       "346476                        0                0      w/d hookups   \n",
       "346477                        0                0      w/d in unit   \n",
       "346478                        0                0      w/d in unit   \n",
       "\n",
       "           parking_options      lat      long state category_price  \n",
       "0          detached garage  43.5851 -116.2250    id           high  \n",
       "1                  carport  38.9137 -104.7800    co           high  \n",
       "2       off-street parking  36.7922  -76.1643    va           high  \n",
       "3              w/d in unit  33.5623 -112.0560    az           high  \n",
       "4                  carport  36.0595  -86.6592    tn            low  \n",
       "...                    ...      ...       ...   ...            ...  \n",
       "346474         w/d in unit  37.9591  -87.5293    in            low  \n",
       "346475  off-street parking  32.6279 -117.0370    ca           high  \n",
       "346476  off-street parking  33.9659  -80.9355    sc           high  \n",
       "346477     detached garage  48.1995 -101.2800    nd            low  \n",
       "346478  off-street parking  42.8997  -78.8803    ny           high  \n",
       "\n",
       "[340551 rows x 18 columns]"
      ]
     },
     "execution_count": 24,
     "metadata": {},
     "output_type": "execute_result"
    }
   ],
   "source": [
    "train_df"
   ]
  },
  {
   "attachments": {},
   "cell_type": "markdown",
   "metadata": {},
   "source": [
    "Creamos una nueva columna en base a 'category_price' que tenga 1 si es 'low' y 0 si es 'high'. "
   ]
  },
  {
   "cell_type": "code",
   "execution_count": 25,
   "metadata": {},
   "outputs": [
    {
     "data": {
      "text/html": [
       "<div>\n",
       "<style scoped>\n",
       "    .dataframe tbody tr th:only-of-type {\n",
       "        vertical-align: middle;\n",
       "    }\n",
       "\n",
       "    .dataframe tbody tr th {\n",
       "        vertical-align: top;\n",
       "    }\n",
       "\n",
       "    .dataframe thead th {\n",
       "        text-align: right;\n",
       "    }\n",
       "</style>\n",
       "<table border=\"1\" class=\"dataframe\">\n",
       "  <thead>\n",
       "    <tr style=\"text-align: right;\">\n",
       "      <th></th>\n",
       "      <th>region</th>\n",
       "      <th>price</th>\n",
       "      <th>type</th>\n",
       "      <th>sqfeet</th>\n",
       "      <th>beds</th>\n",
       "      <th>baths</th>\n",
       "      <th>cats_allowed</th>\n",
       "      <th>dogs_allowed</th>\n",
       "      <th>smoking_allowed</th>\n",
       "      <th>wheelchair_access</th>\n",
       "      <th>electric_vehicle_charge</th>\n",
       "      <th>comes_furnished</th>\n",
       "      <th>laundry_options</th>\n",
       "      <th>parking_options</th>\n",
       "      <th>lat</th>\n",
       "      <th>long</th>\n",
       "      <th>state</th>\n",
       "      <th>category_price</th>\n",
       "      <th>target</th>\n",
       "    </tr>\n",
       "  </thead>\n",
       "  <tbody>\n",
       "    <tr>\n",
       "      <th>0</th>\n",
       "      <td>boise</td>\n",
       "      <td>1350</td>\n",
       "      <td>house</td>\n",
       "      <td>1200</td>\n",
       "      <td>2</td>\n",
       "      <td>2.0</td>\n",
       "      <td>1</td>\n",
       "      <td>1</td>\n",
       "      <td>1</td>\n",
       "      <td>0</td>\n",
       "      <td>0</td>\n",
       "      <td>0</td>\n",
       "      <td>w/d in unit</td>\n",
       "      <td>detached garage</td>\n",
       "      <td>43.5851</td>\n",
       "      <td>-116.2250</td>\n",
       "      <td>id</td>\n",
       "      <td>high</td>\n",
       "      <td>0</td>\n",
       "    </tr>\n",
       "    <tr>\n",
       "      <th>1</th>\n",
       "      <td>colorado springs</td>\n",
       "      <td>1115</td>\n",
       "      <td>apartment</td>\n",
       "      <td>694</td>\n",
       "      <td>1</td>\n",
       "      <td>1.0</td>\n",
       "      <td>1</td>\n",
       "      <td>1</td>\n",
       "      <td>1</td>\n",
       "      <td>0</td>\n",
       "      <td>0</td>\n",
       "      <td>0</td>\n",
       "      <td>w/d in unit</td>\n",
       "      <td>carport</td>\n",
       "      <td>38.9137</td>\n",
       "      <td>-104.7800</td>\n",
       "      <td>co</td>\n",
       "      <td>high</td>\n",
       "      <td>0</td>\n",
       "    </tr>\n",
       "    <tr>\n",
       "      <th>2</th>\n",
       "      <td>norfolk / hampton roads</td>\n",
       "      <td>1129</td>\n",
       "      <td>apartment</td>\n",
       "      <td>900</td>\n",
       "      <td>2</td>\n",
       "      <td>2.0</td>\n",
       "      <td>0</td>\n",
       "      <td>0</td>\n",
       "      <td>1</td>\n",
       "      <td>0</td>\n",
       "      <td>0</td>\n",
       "      <td>0</td>\n",
       "      <td>w/d hookups</td>\n",
       "      <td>off-street parking</td>\n",
       "      <td>36.7922</td>\n",
       "      <td>-76.1643</td>\n",
       "      <td>va</td>\n",
       "      <td>high</td>\n",
       "      <td>0</td>\n",
       "    </tr>\n",
       "    <tr>\n",
       "      <th>3</th>\n",
       "      <td>phoenix</td>\n",
       "      <td>1580</td>\n",
       "      <td>house</td>\n",
       "      <td>1469</td>\n",
       "      <td>3</td>\n",
       "      <td>2.0</td>\n",
       "      <td>1</td>\n",
       "      <td>1</td>\n",
       "      <td>1</td>\n",
       "      <td>0</td>\n",
       "      <td>0</td>\n",
       "      <td>0</td>\n",
       "      <td>w/d in unit</td>\n",
       "      <td>w/d in unit</td>\n",
       "      <td>33.5623</td>\n",
       "      <td>-112.0560</td>\n",
       "      <td>az</td>\n",
       "      <td>high</td>\n",
       "      <td>0</td>\n",
       "    </tr>\n",
       "    <tr>\n",
       "      <th>4</th>\n",
       "      <td>nashville</td>\n",
       "      <td>995</td>\n",
       "      <td>apartment</td>\n",
       "      <td>700</td>\n",
       "      <td>1</td>\n",
       "      <td>1.0</td>\n",
       "      <td>1</td>\n",
       "      <td>1</td>\n",
       "      <td>1</td>\n",
       "      <td>0</td>\n",
       "      <td>0</td>\n",
       "      <td>0</td>\n",
       "      <td>w/d in unit</td>\n",
       "      <td>carport</td>\n",
       "      <td>36.0595</td>\n",
       "      <td>-86.6592</td>\n",
       "      <td>tn</td>\n",
       "      <td>low</td>\n",
       "      <td>1</td>\n",
       "    </tr>\n",
       "  </tbody>\n",
       "</table>\n",
       "</div>"
      ],
      "text/plain": [
       "                    region  price       type  sqfeet  beds  baths  \\\n",
       "0                    boise   1350      house    1200     2    2.0   \n",
       "1         colorado springs   1115  apartment     694     1    1.0   \n",
       "2  norfolk / hampton roads   1129  apartment     900     2    2.0   \n",
       "3                  phoenix   1580      house    1469     3    2.0   \n",
       "4                nashville    995  apartment     700     1    1.0   \n",
       "\n",
       "   cats_allowed  dogs_allowed  smoking_allowed  wheelchair_access  \\\n",
       "0             1             1                1                  0   \n",
       "1             1             1                1                  0   \n",
       "2             0             0                1                  0   \n",
       "3             1             1                1                  0   \n",
       "4             1             1                1                  0   \n",
       "\n",
       "   electric_vehicle_charge  comes_furnished laundry_options  \\\n",
       "0                        0                0     w/d in unit   \n",
       "1                        0                0     w/d in unit   \n",
       "2                        0                0     w/d hookups   \n",
       "3                        0                0     w/d in unit   \n",
       "4                        0                0     w/d in unit   \n",
       "\n",
       "      parking_options      lat      long state category_price  target  \n",
       "0     detached garage  43.5851 -116.2250    id           high       0  \n",
       "1             carport  38.9137 -104.7800    co           high       0  \n",
       "2  off-street parking  36.7922  -76.1643    va           high       0  \n",
       "3         w/d in unit  33.5623 -112.0560    az           high       0  \n",
       "4             carport  36.0595  -86.6592    tn            low       1  "
      ]
     },
     "execution_count": 25,
     "metadata": {},
     "output_type": "execute_result"
    }
   ],
   "source": [
    "from sklearn.preprocessing import LabelEncoder\n",
    "labelencoder = LabelEncoder()\n",
    "\n",
    "train_df['target']=labelencoder.fit_transform(train_df['category_price'])\n",
    "train_df.head()"
   ]
  },
  {
   "attachments": {},
   "cell_type": "markdown",
   "metadata": {},
   "source": [
    "borramos la columna 'category_price' y la columna 'price"
   ]
  },
  {
   "cell_type": "code",
   "execution_count": 26,
   "metadata": {},
   "outputs": [],
   "source": [
    "train_df.drop(['category_price', 'price'], axis=1, inplace=True)"
   ]
  },
  {
   "cell_type": "code",
   "execution_count": 27,
   "metadata": {},
   "outputs": [
    {
     "data": {
      "text/html": [
       "<div>\n",
       "<style scoped>\n",
       "    .dataframe tbody tr th:only-of-type {\n",
       "        vertical-align: middle;\n",
       "    }\n",
       "\n",
       "    .dataframe tbody tr th {\n",
       "        vertical-align: top;\n",
       "    }\n",
       "\n",
       "    .dataframe thead th {\n",
       "        text-align: right;\n",
       "    }\n",
       "</style>\n",
       "<table border=\"1\" class=\"dataframe\">\n",
       "  <thead>\n",
       "    <tr style=\"text-align: right;\">\n",
       "      <th></th>\n",
       "      <th>region</th>\n",
       "      <th>type</th>\n",
       "      <th>sqfeet</th>\n",
       "      <th>beds</th>\n",
       "      <th>baths</th>\n",
       "      <th>cats_allowed</th>\n",
       "      <th>dogs_allowed</th>\n",
       "      <th>smoking_allowed</th>\n",
       "      <th>wheelchair_access</th>\n",
       "      <th>electric_vehicle_charge</th>\n",
       "      <th>comes_furnished</th>\n",
       "      <th>laundry_options</th>\n",
       "      <th>parking_options</th>\n",
       "      <th>lat</th>\n",
       "      <th>long</th>\n",
       "      <th>state</th>\n",
       "      <th>target</th>\n",
       "    </tr>\n",
       "  </thead>\n",
       "  <tbody>\n",
       "    <tr>\n",
       "      <th>0</th>\n",
       "      <td>boise</td>\n",
       "      <td>house</td>\n",
       "      <td>1200</td>\n",
       "      <td>2</td>\n",
       "      <td>2.0</td>\n",
       "      <td>1</td>\n",
       "      <td>1</td>\n",
       "      <td>1</td>\n",
       "      <td>0</td>\n",
       "      <td>0</td>\n",
       "      <td>0</td>\n",
       "      <td>w/d in unit</td>\n",
       "      <td>detached garage</td>\n",
       "      <td>43.5851</td>\n",
       "      <td>-116.2250</td>\n",
       "      <td>id</td>\n",
       "      <td>0</td>\n",
       "    </tr>\n",
       "    <tr>\n",
       "      <th>1</th>\n",
       "      <td>colorado springs</td>\n",
       "      <td>apartment</td>\n",
       "      <td>694</td>\n",
       "      <td>1</td>\n",
       "      <td>1.0</td>\n",
       "      <td>1</td>\n",
       "      <td>1</td>\n",
       "      <td>1</td>\n",
       "      <td>0</td>\n",
       "      <td>0</td>\n",
       "      <td>0</td>\n",
       "      <td>w/d in unit</td>\n",
       "      <td>carport</td>\n",
       "      <td>38.9137</td>\n",
       "      <td>-104.7800</td>\n",
       "      <td>co</td>\n",
       "      <td>0</td>\n",
       "    </tr>\n",
       "    <tr>\n",
       "      <th>2</th>\n",
       "      <td>norfolk / hampton roads</td>\n",
       "      <td>apartment</td>\n",
       "      <td>900</td>\n",
       "      <td>2</td>\n",
       "      <td>2.0</td>\n",
       "      <td>0</td>\n",
       "      <td>0</td>\n",
       "      <td>1</td>\n",
       "      <td>0</td>\n",
       "      <td>0</td>\n",
       "      <td>0</td>\n",
       "      <td>w/d hookups</td>\n",
       "      <td>off-street parking</td>\n",
       "      <td>36.7922</td>\n",
       "      <td>-76.1643</td>\n",
       "      <td>va</td>\n",
       "      <td>0</td>\n",
       "    </tr>\n",
       "    <tr>\n",
       "      <th>3</th>\n",
       "      <td>phoenix</td>\n",
       "      <td>house</td>\n",
       "      <td>1469</td>\n",
       "      <td>3</td>\n",
       "      <td>2.0</td>\n",
       "      <td>1</td>\n",
       "      <td>1</td>\n",
       "      <td>1</td>\n",
       "      <td>0</td>\n",
       "      <td>0</td>\n",
       "      <td>0</td>\n",
       "      <td>w/d in unit</td>\n",
       "      <td>w/d in unit</td>\n",
       "      <td>33.5623</td>\n",
       "      <td>-112.0560</td>\n",
       "      <td>az</td>\n",
       "      <td>0</td>\n",
       "    </tr>\n",
       "    <tr>\n",
       "      <th>4</th>\n",
       "      <td>nashville</td>\n",
       "      <td>apartment</td>\n",
       "      <td>700</td>\n",
       "      <td>1</td>\n",
       "      <td>1.0</td>\n",
       "      <td>1</td>\n",
       "      <td>1</td>\n",
       "      <td>1</td>\n",
       "      <td>0</td>\n",
       "      <td>0</td>\n",
       "      <td>0</td>\n",
       "      <td>w/d in unit</td>\n",
       "      <td>carport</td>\n",
       "      <td>36.0595</td>\n",
       "      <td>-86.6592</td>\n",
       "      <td>tn</td>\n",
       "      <td>1</td>\n",
       "    </tr>\n",
       "  </tbody>\n",
       "</table>\n",
       "</div>"
      ],
      "text/plain": [
       "                    region       type  sqfeet  beds  baths  cats_allowed  \\\n",
       "0                    boise      house    1200     2    2.0             1   \n",
       "1         colorado springs  apartment     694     1    1.0             1   \n",
       "2  norfolk / hampton roads  apartment     900     2    2.0             0   \n",
       "3                  phoenix      house    1469     3    2.0             1   \n",
       "4                nashville  apartment     700     1    1.0             1   \n",
       "\n",
       "   dogs_allowed  smoking_allowed  wheelchair_access  electric_vehicle_charge  \\\n",
       "0             1                1                  0                        0   \n",
       "1             1                1                  0                        0   \n",
       "2             0                1                  0                        0   \n",
       "3             1                1                  0                        0   \n",
       "4             1                1                  0                        0   \n",
       "\n",
       "   comes_furnished laundry_options     parking_options      lat      long  \\\n",
       "0                0     w/d in unit     detached garage  43.5851 -116.2250   \n",
       "1                0     w/d in unit             carport  38.9137 -104.7800   \n",
       "2                0     w/d hookups  off-street parking  36.7922  -76.1643   \n",
       "3                0     w/d in unit         w/d in unit  33.5623 -112.0560   \n",
       "4                0     w/d in unit             carport  36.0595  -86.6592   \n",
       "\n",
       "  state  target  \n",
       "0    id       0  \n",
       "1    co       0  \n",
       "2    va       0  \n",
       "3    az       0  \n",
       "4    tn       1  "
      ]
     },
     "execution_count": 27,
     "metadata": {},
     "output_type": "execute_result"
    }
   ],
   "source": [
    "train_df.head()"
   ]
  },
  {
   "attachments": {},
   "cell_type": "markdown",
   "metadata": {},
   "source": [
    "vamos a codificar las variables categoricas para poder convertirlas a numericas.\n"
   ]
  },
  {
   "cell_type": "code",
   "execution_count": 28,
   "metadata": {},
   "outputs": [
    {
     "data": {
      "text/html": [
       "<div>\n",
       "<style scoped>\n",
       "    .dataframe tbody tr th:only-of-type {\n",
       "        vertical-align: middle;\n",
       "    }\n",
       "\n",
       "    .dataframe tbody tr th {\n",
       "        vertical-align: top;\n",
       "    }\n",
       "\n",
       "    .dataframe thead th {\n",
       "        text-align: right;\n",
       "    }\n",
       "</style>\n",
       "<table border=\"1\" class=\"dataframe\">\n",
       "  <thead>\n",
       "    <tr style=\"text-align: right;\">\n",
       "      <th></th>\n",
       "      <th>region</th>\n",
       "      <th>type</th>\n",
       "      <th>sqfeet</th>\n",
       "      <th>beds</th>\n",
       "      <th>baths</th>\n",
       "      <th>cats_allowed</th>\n",
       "      <th>dogs_allowed</th>\n",
       "      <th>smoking_allowed</th>\n",
       "      <th>wheelchair_access</th>\n",
       "      <th>electric_vehicle_charge</th>\n",
       "      <th>comes_furnished</th>\n",
       "      <th>laundry_options</th>\n",
       "      <th>parking_options</th>\n",
       "      <th>lat</th>\n",
       "      <th>long</th>\n",
       "      <th>state</th>\n",
       "      <th>target</th>\n",
       "    </tr>\n",
       "  </thead>\n",
       "  <tbody>\n",
       "    <tr>\n",
       "      <th>0</th>\n",
       "      <td>33</td>\n",
       "      <td>6</td>\n",
       "      <td>1200</td>\n",
       "      <td>2</td>\n",
       "      <td>2.0</td>\n",
       "      <td>1</td>\n",
       "      <td>1</td>\n",
       "      <td>1</td>\n",
       "      <td>0</td>\n",
       "      <td>0</td>\n",
       "      <td>0</td>\n",
       "      <td>4</td>\n",
       "      <td>2</td>\n",
       "      <td>43.5851</td>\n",
       "      <td>-116.2250</td>\n",
       "      <td>12</td>\n",
       "      <td>0</td>\n",
       "    </tr>\n",
       "    <tr>\n",
       "      <th>1</th>\n",
       "      <td>64</td>\n",
       "      <td>0</td>\n",
       "      <td>694</td>\n",
       "      <td>1</td>\n",
       "      <td>1.0</td>\n",
       "      <td>1</td>\n",
       "      <td>1</td>\n",
       "      <td>1</td>\n",
       "      <td>0</td>\n",
       "      <td>0</td>\n",
       "      <td>0</td>\n",
       "      <td>4</td>\n",
       "      <td>1</td>\n",
       "      <td>38.9137</td>\n",
       "      <td>-104.7800</td>\n",
       "      <td>5</td>\n",
       "      <td>0</td>\n",
       "    </tr>\n",
       "    <tr>\n",
       "      <th>2</th>\n",
       "      <td>233</td>\n",
       "      <td>0</td>\n",
       "      <td>900</td>\n",
       "      <td>2</td>\n",
       "      <td>2.0</td>\n",
       "      <td>0</td>\n",
       "      <td>0</td>\n",
       "      <td>1</td>\n",
       "      <td>0</td>\n",
       "      <td>0</td>\n",
       "      <td>0</td>\n",
       "      <td>3</td>\n",
       "      <td>4</td>\n",
       "      <td>36.7922</td>\n",
       "      <td>-76.1643</td>\n",
       "      <td>44</td>\n",
       "      <td>0</td>\n",
       "    </tr>\n",
       "    <tr>\n",
       "      <th>3</th>\n",
       "      <td>266</td>\n",
       "      <td>6</td>\n",
       "      <td>1469</td>\n",
       "      <td>3</td>\n",
       "      <td>2.0</td>\n",
       "      <td>1</td>\n",
       "      <td>1</td>\n",
       "      <td>1</td>\n",
       "      <td>0</td>\n",
       "      <td>0</td>\n",
       "      <td>0</td>\n",
       "      <td>4</td>\n",
       "      <td>7</td>\n",
       "      <td>33.5623</td>\n",
       "      <td>-112.0560</td>\n",
       "      <td>3</td>\n",
       "      <td>0</td>\n",
       "    </tr>\n",
       "    <tr>\n",
       "      <th>4</th>\n",
       "      <td>227</td>\n",
       "      <td>0</td>\n",
       "      <td>700</td>\n",
       "      <td>1</td>\n",
       "      <td>1.0</td>\n",
       "      <td>1</td>\n",
       "      <td>1</td>\n",
       "      <td>1</td>\n",
       "      <td>0</td>\n",
       "      <td>0</td>\n",
       "      <td>0</td>\n",
       "      <td>4</td>\n",
       "      <td>1</td>\n",
       "      <td>36.0595</td>\n",
       "      <td>-86.6592</td>\n",
       "      <td>41</td>\n",
       "      <td>1</td>\n",
       "    </tr>\n",
       "  </tbody>\n",
       "</table>\n",
       "</div>"
      ],
      "text/plain": [
       "   region  type  sqfeet  beds  baths  cats_allowed  dogs_allowed  \\\n",
       "0      33     6    1200     2    2.0             1             1   \n",
       "1      64     0     694     1    1.0             1             1   \n",
       "2     233     0     900     2    2.0             0             0   \n",
       "3     266     6    1469     3    2.0             1             1   \n",
       "4     227     0     700     1    1.0             1             1   \n",
       "\n",
       "   smoking_allowed  wheelchair_access  electric_vehicle_charge  \\\n",
       "0                1                  0                        0   \n",
       "1                1                  0                        0   \n",
       "2                1                  0                        0   \n",
       "3                1                  0                        0   \n",
       "4                1                  0                        0   \n",
       "\n",
       "   comes_furnished  laundry_options  parking_options      lat      long  \\\n",
       "0                0                4                2  43.5851 -116.2250   \n",
       "1                0                4                1  38.9137 -104.7800   \n",
       "2                0                3                4  36.7922  -76.1643   \n",
       "3                0                4                7  33.5623 -112.0560   \n",
       "4                0                4                1  36.0595  -86.6592   \n",
       "\n",
       "   state  target  \n",
       "0     12       0  \n",
       "1      5       0  \n",
       "2     44       0  \n",
       "3      3       0  \n",
       "4     41       1  "
      ]
     },
     "execution_count": 28,
     "metadata": {},
     "output_type": "execute_result"
    }
   ],
   "source": [
    "from sklearn.preprocessing import LabelEncoder\n",
    "labelencoder = LabelEncoder()\n",
    "\n",
    "train_df['region']=labelencoder.fit_transform(train_df['region'])\n",
    "train_df['type']=labelencoder.fit_transform(train_df['type'])\n",
    "train_df['laundry_options']=labelencoder.fit_transform(train_df['laundry_options'])\n",
    "train_df['parking_options']=labelencoder.fit_transform(train_df['parking_options'])\n",
    "train_df['state']=labelencoder.fit_transform(train_df['state'])\n",
    "\n",
    "train_df.head()"
   ]
  },
  {
   "cell_type": "code",
   "execution_count": 29,
   "metadata": {},
   "outputs": [
    {
     "name": "stdout",
     "output_type": "stream",
     "text": [
      "<class 'pandas.core.frame.DataFrame'>\n",
      "Int64Index: 340551 entries, 0 to 346478\n",
      "Data columns (total 17 columns):\n",
      " #   Column                   Non-Null Count   Dtype  \n",
      "---  ------                   --------------   -----  \n",
      " 0   region                   340551 non-null  int32  \n",
      " 1   type                     340551 non-null  int32  \n",
      " 2   sqfeet                   340551 non-null  int64  \n",
      " 3   beds                     340551 non-null  int64  \n",
      " 4   baths                    340551 non-null  float64\n",
      " 5   cats_allowed             340551 non-null  int64  \n",
      " 6   dogs_allowed             340551 non-null  int64  \n",
      " 7   smoking_allowed          340551 non-null  int64  \n",
      " 8   wheelchair_access        340551 non-null  int64  \n",
      " 9   electric_vehicle_charge  340551 non-null  int64  \n",
      " 10  comes_furnished          340551 non-null  int64  \n",
      " 11  laundry_options          340551 non-null  int32  \n",
      " 12  parking_options          340551 non-null  int32  \n",
      " 13  lat                      340551 non-null  float64\n",
      " 14  long                     340551 non-null  float64\n",
      " 15  state                    340551 non-null  int32  \n",
      " 16  target                   340551 non-null  int32  \n",
      "dtypes: float64(3), int32(6), int64(8)\n",
      "memory usage: 39.0 MB\n"
     ]
    }
   ],
   "source": [
    "train_df.info()"
   ]
  },
  {
   "attachments": {},
   "cell_type": "markdown",
   "metadata": {},
   "source": [
    "Ahora realizamos los mismos cambios del dataset 'train_df' al dataset 'test_df'"
   ]
  },
  {
   "cell_type": "code",
   "execution_count": 30,
   "metadata": {},
   "outputs": [
    {
     "name": "stdout",
     "output_type": "stream",
     "text": [
      "<class 'pandas.core.frame.DataFrame'>\n",
      "RangeIndex: 38498 entries, 0 to 38497\n",
      "Data columns (total 21 columns):\n",
      " #   Column                   Non-Null Count  Dtype  \n",
      "---  ------                   --------------  -----  \n",
      " 0   id                       38498 non-null  int64  \n",
      " 1   url                      38498 non-null  object \n",
      " 2   region                   38498 non-null  object \n",
      " 3   region_url               38498 non-null  object \n",
      " 4   type                     38498 non-null  object \n",
      " 5   sqfeet                   38498 non-null  int64  \n",
      " 6   beds                     38498 non-null  int64  \n",
      " 7   baths                    38498 non-null  float64\n",
      " 8   cats_allowed             38498 non-null  int64  \n",
      " 9   dogs_allowed             38498 non-null  int64  \n",
      " 10  smoking_allowed          38498 non-null  int64  \n",
      " 11  wheelchair_access        38498 non-null  int64  \n",
      " 12  electric_vehicle_charge  38498 non-null  int64  \n",
      " 13  comes_furnished          38498 non-null  int64  \n",
      " 14  laundry_options          30643 non-null  object \n",
      " 15  parking_options          24493 non-null  object \n",
      " 16  image_url                38498 non-null  object \n",
      " 17  description              38498 non-null  object \n",
      " 18  lat                      38302 non-null  float64\n",
      " 19  long                     38302 non-null  float64\n",
      " 20  state                    38498 non-null  object \n",
      "dtypes: float64(3), int64(9), object(9)\n",
      "memory usage: 6.2+ MB\n"
     ]
    }
   ],
   "source": [
    "test_df.info()"
   ]
  },
  {
   "cell_type": "code",
   "execution_count": 31,
   "metadata": {},
   "outputs": [
    {
     "data": {
      "text/plain": [
       "id                             0\n",
       "url                            0\n",
       "region                         0\n",
       "region_url                     0\n",
       "type                           0\n",
       "sqfeet                         0\n",
       "beds                           0\n",
       "baths                          0\n",
       "cats_allowed                   0\n",
       "dogs_allowed                   0\n",
       "smoking_allowed                0\n",
       "wheelchair_access              0\n",
       "electric_vehicle_charge        0\n",
       "comes_furnished                0\n",
       "laundry_options             7855\n",
       "parking_options            14005\n",
       "image_url                      0\n",
       "description                    0\n",
       "lat                          196\n",
       "long                         196\n",
       "state                          0\n",
       "dtype: int64"
      ]
     },
     "execution_count": 31,
     "metadata": {},
     "output_type": "execute_result"
    }
   ],
   "source": [
    "# Vamos a ver los valores nulos en el conjunto de datos\n",
    "test_df.isnull().sum()"
   ]
  },
  {
   "cell_type": "code",
   "execution_count": 32,
   "metadata": {},
   "outputs": [
    {
     "data": {
      "text/plain": [
       "w/d in unit           13156\n",
       "w/d hookups            7627\n",
       "laundry on site        5924\n",
       "laundry in bldg        3590\n",
       "no laundry on site      346\n",
       "Name: laundry_options, dtype: int64"
      ]
     },
     "execution_count": 32,
     "metadata": {},
     "output_type": "execute_result"
    }
   ],
   "source": [
    "#veamos la frecuencia en 'laundry_options'\n",
    "test_df['laundry_options'].value_counts()"
   ]
  },
  {
   "cell_type": "code",
   "execution_count": 33,
   "metadata": {},
   "outputs": [],
   "source": [
    "#vamos a rellenar con la moda\n",
    "moda = test_df['laundry_options'].mode()[0]\n",
    "test_df['laundry_options'] = test_df['laundry_options'].fillna(moda)\n",
    "\n",
    "#lo mismo para 'parking_options'\n",
    "test_df['parking_options'].value_counts()\n",
    "test_df['parking_options'] = test_df['parking_options'].fillna(moda_1) "
   ]
  },
  {
   "cell_type": "code",
   "execution_count": 34,
   "metadata": {},
   "outputs": [],
   "source": [
    "# vamos a rellenar con cero las filas con valores faltantes en las columnas 'lat' y 'long'\n",
    "test_df['lat'].fillna(0, inplace=True)\n",
    "test_df['long'].fillna(0, inplace=True)\n"
   ]
  },
  {
   "attachments": {},
   "cell_type": "markdown",
   "metadata": {},
   "source": [
    "Vamos a eliminar las columnas que no aportan información al modelo por ser de tipo strings, las cuales son: 'id', 'url', 'region_url', 'image_url' y 'description'"
   ]
  },
  {
   "cell_type": "code",
   "execution_count": 35,
   "metadata": {},
   "outputs": [],
   "source": [
    "test_df.drop(['id', 'url', 'region_url', 'image_url','description'], axis=1, inplace=True)"
   ]
  },
  {
   "attachments": {},
   "cell_type": "markdown",
   "metadata": {},
   "source": [
    "creamos la variable target"
   ]
  },
  {
   "cell_type": "code",
   "execution_count": 36,
   "metadata": {},
   "outputs": [],
   "source": [
    "test_df['target']=''"
   ]
  },
  {
   "attachments": {},
   "cell_type": "markdown",
   "metadata": {},
   "source": [
    "vamos a codificar las variables categoricas para poder convertirlas a numericas."
   ]
  },
  {
   "cell_type": "code",
   "execution_count": 37,
   "metadata": {},
   "outputs": [
    {
     "data": {
      "text/html": [
       "<div>\n",
       "<style scoped>\n",
       "    .dataframe tbody tr th:only-of-type {\n",
       "        vertical-align: middle;\n",
       "    }\n",
       "\n",
       "    .dataframe tbody tr th {\n",
       "        vertical-align: top;\n",
       "    }\n",
       "\n",
       "    .dataframe thead th {\n",
       "        text-align: right;\n",
       "    }\n",
       "</style>\n",
       "<table border=\"1\" class=\"dataframe\">\n",
       "  <thead>\n",
       "    <tr style=\"text-align: right;\">\n",
       "      <th></th>\n",
       "      <th>region</th>\n",
       "      <th>type</th>\n",
       "      <th>sqfeet</th>\n",
       "      <th>beds</th>\n",
       "      <th>baths</th>\n",
       "      <th>cats_allowed</th>\n",
       "      <th>dogs_allowed</th>\n",
       "      <th>smoking_allowed</th>\n",
       "      <th>wheelchair_access</th>\n",
       "      <th>electric_vehicle_charge</th>\n",
       "      <th>comes_furnished</th>\n",
       "      <th>laundry_options</th>\n",
       "      <th>parking_options</th>\n",
       "      <th>lat</th>\n",
       "      <th>long</th>\n",
       "      <th>state</th>\n",
       "      <th>target</th>\n",
       "    </tr>\n",
       "  </thead>\n",
       "  <tbody>\n",
       "    <tr>\n",
       "      <th>0</th>\n",
       "      <td>9</td>\n",
       "      <td>8</td>\n",
       "      <td>1344</td>\n",
       "      <td>3</td>\n",
       "      <td>2.0</td>\n",
       "      <td>0</td>\n",
       "      <td>0</td>\n",
       "      <td>1</td>\n",
       "      <td>0</td>\n",
       "      <td>0</td>\n",
       "      <td>0</td>\n",
       "      <td>4</td>\n",
       "      <td>4</td>\n",
       "      <td>42.5333</td>\n",
       "      <td>-83.5763</td>\n",
       "      <td>22</td>\n",
       "      <td></td>\n",
       "    </tr>\n",
       "    <tr>\n",
       "      <th>1</th>\n",
       "      <td>370</td>\n",
       "      <td>0</td>\n",
       "      <td>1050</td>\n",
       "      <td>2</td>\n",
       "      <td>1.0</td>\n",
       "      <td>0</td>\n",
       "      <td>0</td>\n",
       "      <td>1</td>\n",
       "      <td>0</td>\n",
       "      <td>0</td>\n",
       "      <td>0</td>\n",
       "      <td>3</td>\n",
       "      <td>4</td>\n",
       "      <td>43.9393</td>\n",
       "      <td>-72.5538</td>\n",
       "      <td>46</td>\n",
       "      <td></td>\n",
       "    </tr>\n",
       "    <tr>\n",
       "      <th>2</th>\n",
       "      <td>9</td>\n",
       "      <td>0</td>\n",
       "      <td>1150</td>\n",
       "      <td>2</td>\n",
       "      <td>2.0</td>\n",
       "      <td>1</td>\n",
       "      <td>1</td>\n",
       "      <td>1</td>\n",
       "      <td>1</td>\n",
       "      <td>0</td>\n",
       "      <td>0</td>\n",
       "      <td>4</td>\n",
       "      <td>1</td>\n",
       "      <td>42.2492</td>\n",
       "      <td>-83.7712</td>\n",
       "      <td>22</td>\n",
       "      <td></td>\n",
       "    </tr>\n",
       "    <tr>\n",
       "      <th>3</th>\n",
       "      <td>112</td>\n",
       "      <td>0</td>\n",
       "      <td>1280</td>\n",
       "      <td>2</td>\n",
       "      <td>2.5</td>\n",
       "      <td>1</td>\n",
       "      <td>1</td>\n",
       "      <td>0</td>\n",
       "      <td>0</td>\n",
       "      <td>0</td>\n",
       "      <td>0</td>\n",
       "      <td>4</td>\n",
       "      <td>0</td>\n",
       "      <td>40.5501</td>\n",
       "      <td>-105.0350</td>\n",
       "      <td>5</td>\n",
       "      <td></td>\n",
       "    </tr>\n",
       "    <tr>\n",
       "      <th>4</th>\n",
       "      <td>53</td>\n",
       "      <td>0</td>\n",
       "      <td>783</td>\n",
       "      <td>2</td>\n",
       "      <td>1.0</td>\n",
       "      <td>1</td>\n",
       "      <td>1</td>\n",
       "      <td>1</td>\n",
       "      <td>0</td>\n",
       "      <td>0</td>\n",
       "      <td>0</td>\n",
       "      <td>1</td>\n",
       "      <td>7</td>\n",
       "      <td>38.0936</td>\n",
       "      <td>-78.5611</td>\n",
       "      <td>45</td>\n",
       "      <td></td>\n",
       "    </tr>\n",
       "  </tbody>\n",
       "</table>\n",
       "</div>"
      ],
      "text/plain": [
       "   region  type  sqfeet  beds  baths  cats_allowed  dogs_allowed  \\\n",
       "0       9     8    1344     3    2.0             0             0   \n",
       "1     370     0    1050     2    1.0             0             0   \n",
       "2       9     0    1150     2    2.0             1             1   \n",
       "3     112     0    1280     2    2.5             1             1   \n",
       "4      53     0     783     2    1.0             1             1   \n",
       "\n",
       "   smoking_allowed  wheelchair_access  electric_vehicle_charge  \\\n",
       "0                1                  0                        0   \n",
       "1                1                  0                        0   \n",
       "2                1                  1                        0   \n",
       "3                0                  0                        0   \n",
       "4                1                  0                        0   \n",
       "\n",
       "   comes_furnished  laundry_options  parking_options      lat      long  \\\n",
       "0                0                4                4  42.5333  -83.5763   \n",
       "1                0                3                4  43.9393  -72.5538   \n",
       "2                0                4                1  42.2492  -83.7712   \n",
       "3                0                4                0  40.5501 -105.0350   \n",
       "4                0                1                7  38.0936  -78.5611   \n",
       "\n",
       "   state target  \n",
       "0     22         \n",
       "1     46         \n",
       "2     22         \n",
       "3      5         \n",
       "4     45         "
      ]
     },
     "execution_count": 37,
     "metadata": {},
     "output_type": "execute_result"
    }
   ],
   "source": [
    "from sklearn.preprocessing import LabelEncoder\n",
    "labelencoder = LabelEncoder()\n",
    "\n",
    "test_df['region']=labelencoder.fit_transform(test_df['region'])\n",
    "test_df['type']=labelencoder.fit_transform(test_df['type'])\n",
    "test_df['laundry_options']=labelencoder.fit_transform(test_df['laundry_options'])\n",
    "test_df['parking_options']=labelencoder.fit_transform(test_df['parking_options'])\n",
    "test_df['state']=labelencoder.fit_transform(test_df['state'])\n",
    "\n",
    "test_df.head()"
   ]
  },
  {
   "attachments": {},
   "cell_type": "markdown",
   "metadata": {},
   "source": [
    "Listo, tenemos los dos datasets con las mismas transformaciones. Vamos a implementar el modelo de aprendizaje supervisado el cual será un árbol de decision."
   ]
  },
  {
   "attachments": {},
   "cell_type": "markdown",
   "metadata": {},
   "source": [
    "Primero graficamos la varaible target para ver su distribución."
   ]
  },
  {
   "cell_type": "code",
   "execution_count": 38,
   "metadata": {},
   "outputs": [
    {
     "data": {
      "text/plain": [
       "<AxesSubplot: xlabel='target', ylabel='count'>"
      ]
     },
     "execution_count": 38,
     "metadata": {},
     "output_type": "execute_result"
    },
    {
     "data": {
      "image/png": "[encoded data removed]",
      "text/plain": [
       "<Figure size 432x288 with 1 Axes>"
      ]
     },
     "metadata": {
      "needs_background": "light"
     },
     "output_type": "display_data"
    }
   ],
   "source": [
    "sns.countplot(x='target', data=train_df)"
   ]
  },
  {
   "attachments": {},
   "cell_type": "markdown",
   "metadata": {},
   "source": [
    "Vamos a escoger las variables X, y"
   ]
  },
  {
   "cell_type": "code",
   "execution_count": 39,
   "metadata": {},
   "outputs": [],
   "source": [
    "X=train_df.drop(['target'], axis=1)\n",
    "y= train_df['target']"
   ]
  },
  {
   "attachments": {},
   "cell_type": "markdown",
   "metadata": {},
   "source": [
    "Separaramos el dataset en dos: train y test data"
   ]
  },
  {
   "cell_type": "code",
   "execution_count": 40,
   "metadata": {},
   "outputs": [],
   "source": [
    "from sklearn.model_selection import train_test_split\n",
    "X_train, X_test, y_train, y_test = train_test_split(X, y, test_size=0.2, random_state=1) # 80% training and 20% test\n"
   ]
  },
  {
   "attachments": {},
   "cell_type": "markdown",
   "metadata": {},
   "source": [
    "vemos la forma"
   ]
  },
  {
   "cell_type": "code",
   "execution_count": 41,
   "metadata": {},
   "outputs": [
    {
     "name": "stdout",
     "output_type": "stream",
     "text": [
      "(272440, 16) (68111, 16) (272440,) (68111,)\n"
     ]
    }
   ],
   "source": [
    "print(X_train.shape, X_test.shape, y_train.shape, y_test.shape)"
   ]
  },
  {
   "cell_type": "code",
   "execution_count": 42,
   "metadata": {},
   "outputs": [],
   "source": [
    "# Importamos Decision Tree Classifier\n",
    "from sklearn.tree import DecisionTreeClassifier \n",
    "\n",
    "# Train Decision Tree Classifer\n",
    "clf = DecisionTreeClassifier(random_state=42, max_depth=5)\n",
    "clf.fit(X_train, y_train)\n",
    "\n",
    "#Predict the response for test dataset\n",
    "y_pred= clf.predict(X_test)"
   ]
  },
  {
   "cell_type": "code",
   "execution_count": 43,
   "metadata": {},
   "outputs": [
    {
     "name": "stdout",
     "output_type": "stream",
     "text": [
      "Accuracy: 0.761727180631616\n",
      "Recall: 0.8236555072189647\n"
     ]
    }
   ],
   "source": [
    "from sklearn.metrics import accuracy_score, precision_score, recall_score, f1_score\n",
    "print(\"Accuracy:\", accuracy_score(y_test, y_pred))\n",
    "# print(\"Precision:\", precision_score(y_test, y_pred))\n",
    "print(\"Recall:\", recall_score(y_test, y_pred))\n",
    "# print(\"F1-score:\", f1_score(y_test, y_pred))\n"
   ]
  },
  {
   "attachments": {},
   "cell_type": "markdown",
   "metadata": {},
   "source": [
    "Para evaluar nuestro modelo estamos utilizando las métricas de accuracy y recall. Ahora para mejorar estas métricas existen varios métodos, vamos a probar el método gridsearchCV el cual nos ayudará a encontrar los mejores hiperparámetros."
   ]
  },
  {
   "cell_type": "code",
   "execution_count": 44,
   "metadata": {},
   "outputs": [
    {
     "name": "stdout",
     "output_type": "stream",
     "text": [
      "Mejores parámetros encontrados:  {'max_depth': 10, 'min_samples_leaf': 2, 'min_samples_split': 5}\n"
     ]
    }
   ],
   "source": [
    "from sklearn.tree import DecisionTreeClassifier\n",
    "from sklearn.model_selection import GridSearchCV\n",
    "\n",
    "# Creamos una instancia del clasificador de árbol de decisión\n",
    "clf = DecisionTreeClassifier()\n",
    "\n",
    "# Definimos los parámetros a probar\n",
    "param_grid = {'max_depth': [3,5,7,10],\n",
    "              'min_samples_leaf': [2,5,10,20],\n",
    "              'min_samples_split': [2,5,10,20]}\n",
    "\n",
    "# Creamos una instancia de GridSearchCV\n",
    "grid_search = GridSearchCV(clf, param_grid, cv=5)\n",
    "\n",
    "# Entrenamos el modelo con los datos\n",
    "grid_search.fit(X_train, y_train)\n",
    "\n",
    "# Imprimimos los mejores parámetros encontrados\n",
    "print(\"Mejores parámetros encontrados: \",grid_search.best_params_)\n"
   ]
  },
  {
   "cell_type": "code",
   "execution_count": 45,
   "metadata": {},
   "outputs": [],
   "source": [
    "# Importamos Decision Tree Classifier\n",
    "from sklearn.tree import DecisionTreeClassifier \n",
    "\n",
    "# Entrenamos Decision Tree Classifer\n",
    "clf = DecisionTreeClassifier(random_state=42, max_depth=10, min_samples_leaf=1, min_samples_split=5 )\n",
    "clf.fit(X_train, y_train)\n",
    "\n",
    "#Predict the response for test dataset\n",
    "y_pred= clf.predict(X_test)\n"
   ]
  },
  {
   "cell_type": "code",
   "execution_count": 46,
   "metadata": {},
   "outputs": [
    {
     "name": "stdout",
     "output_type": "stream",
     "text": [
      "Accuracy: 0.8372069122461864\n",
      "Recall: 0.824191412899565\n"
     ]
    }
   ],
   "source": [
    "# Evaluación del rendimiento del modelo.\n",
    "\n",
    "from sklearn.metrics import accuracy_score, precision_score, recall_score, f1_score\n",
    "print(\"Accuracy:\", accuracy_score(y_test, y_pred))\n",
    "# print(\"Precision:\", precision_score(y_test, y_pred))\n",
    "print(\"Recall:\", recall_score(y_test, y_pred))\n",
    "# print(\"F1-score:\", f1_score(y_test, y_pred))"
   ]
  },
  {
   "attachments": {},
   "cell_type": "markdown",
   "metadata": {},
   "source": [
    "eleccion de las mejores features para nuestro modelo"
   ]
  },
  {
   "cell_type": "code",
   "execution_count": 47,
   "metadata": {},
   "outputs": [
    {
     "data": {
      "image/png": "[encoded data removed]",
      "text/plain": [
       "<Figure size 1440x720 with 1 Axes>"
      ]
     },
     "metadata": {
      "needs_background": "light"
     },
     "output_type": "display_data"
    }
   ],
   "source": [
    "# Ploteamos la importancia de los atributos elegidos a la hora de hacer la predicción\n",
    "\n",
    "\n",
    "plt.figure(figsize = (20,10))\n",
    "\n",
    "importances = clf.feature_importances_\n",
    "columns = X.columns\n",
    "sns.barplot(x = columns, y = importances)\n",
    "plt.title('Importancia de cada feature', fontsize = 15)\n",
    "plt.show()"
   ]
  },
  {
   "attachments": {},
   "cell_type": "markdown",
   "metadata": {},
   "source": [
    "el quitar o dejar todas la variables no afecta positivamente al modelo, así que dejamos todas las variables."
   ]
  },
  {
   "attachments": {},
   "cell_type": "markdown",
   "metadata": {},
   "source": [
    "vamos a usar un pipeline para mejorar el modelo"
   ]
  },
  {
   "cell_type": "code",
   "execution_count": 48,
   "metadata": {},
   "outputs": [
    {
     "name": "stdout",
     "output_type": "stream",
     "text": [
      "{'clf__max_depth': 20, 'clf__min_samples_leaf': 1}\n"
     ]
    }
   ],
   "source": [
    "from sklearn.pipeline import Pipeline\n",
    "from sklearn.tree import DecisionTreeClassifier\n",
    "from sklearn.model_selection import GridSearchCV\n",
    "\n",
    "pipe = Pipeline([\n",
    "    ('clf', DecisionTreeClassifier())\n",
    "])\n",
    "\n",
    "param_grid = {\n",
    "    'clf__max_depth': [5, 10, 15, 20],\n",
    "    'clf__min_samples_leaf': [1, 2, 3, 4],\n",
    "}\n",
    "\n",
    "grid_search = GridSearchCV(pipe, param_grid, cv=5, n_jobs=-1, scoring='recall')\n",
    "grid_search.fit(X_train, y_train)\n",
    "\n",
    "best_params = grid_search.best_params_\n",
    "print(best_params)\n"
   ]
  },
  {
   "cell_type": "code",
   "execution_count": 49,
   "metadata": {},
   "outputs": [],
   "source": [
    "X=train_df.drop(['target'], axis=1)\n",
    "y= train_df['target']\n",
    "\n",
    "from sklearn.model_selection import train_test_split\n",
    "X_train, X_test, y_train, y_test = train_test_split(X, y, test_size=0.2, random_state=1) # 80% training and 20% test\n"
   ]
  },
  {
   "cell_type": "code",
   "execution_count": 50,
   "metadata": {},
   "outputs": [],
   "source": [
    "# Importamos Decision Tree Classifier\n",
    "from sklearn.tree import DecisionTreeClassifier \n",
    "\n",
    "# Entrenamos Decision Tree Classifer\n",
    "clf = DecisionTreeClassifier(random_state=42, max_depth=20, min_samples_leaf=1, min_samples_split=5 )\n",
    "clf.fit(X_train, y_train)\n",
    "\n",
    "#Predict the response for test dataset\n",
    "y_pred= clf.predict(X_test)\n"
   ]
  },
  {
   "cell_type": "code",
   "execution_count": 51,
   "metadata": {},
   "outputs": [
    {
     "name": "stdout",
     "output_type": "stream",
     "text": [
      "Accuracy: 0.9232576235850303\n",
      "Recall: 0.9123636592900826\n"
     ]
    }
   ],
   "source": [
    "from sklearn.metrics import accuracy_score, precision_score, recall_score, f1_score\n",
    "print(\"Accuracy:\", accuracy_score(y_test, y_pred))\n",
    "# print(\"Precision:\", precision_score(y_test, y_pred))\n",
    "print(\"Recall:\", recall_score(y_test, y_pred))\n",
    "# print(\"F1-score:\", f1_score(y_test, y_pred))"
   ]
  },
  {
   "cell_type": "code",
   "execution_count": 52,
   "metadata": {},
   "outputs": [],
   "source": [
    "# data for prediction\n",
    "X_test_pred=test_df.drop('target',axis=1)"
   ]
  },
  {
   "cell_type": "code",
   "execution_count": 53,
   "metadata": {},
   "outputs": [],
   "source": [
    "pred_tree_test =clf.predict(X_test_pred)"
   ]
  },
  {
   "cell_type": "code",
   "execution_count": 54,
   "metadata": {},
   "outputs": [
    {
     "data": {
      "text/plain": [
       "38498"
      ]
     },
     "execution_count": 54,
     "metadata": {},
     "output_type": "execute_result"
    }
   ],
   "source": [
    "len(pred_tree_test)"
   ]
  },
  {
   "cell_type": "code",
   "execution_count": 55,
   "metadata": {},
   "outputs": [],
   "source": [
    "pred_t=pd.DataFrame(pred_tree_test, columns=['pred'])\n",
    "pred_t.to_csv('CamiiloP14.csv', index=False)"
   ]
  },
  {
   "attachments": {},
   "cell_type": "markdown",
   "metadata": {},
   "source": [
    "Curva ROC"
   ]
  },
  {
   "cell_type": "code",
   "execution_count": 56,
   "metadata": {},
   "outputs": [],
   "source": [
    "from sklearn.metrics import roc_curve\n",
    "\n",
    "# Obtener las probabilidades de la clase positiva para el conjunto de prueba\n",
    "y_probas = clf.predict_proba(X_test)\n",
    "\n",
    "# Obtener las tasas de verdaderos positivos (TPR) y las tasas de falsos positivos (FPR)\n",
    "fpr, tpr, thresholds = roc_curve(y_test, y_probas[:, 1])\n"
   ]
  },
  {
   "cell_type": "code",
   "execution_count": 57,
   "metadata": {},
   "outputs": [
    {
     "data": {
      "image/png": "[encoded data removed]",
      "text/plain": [
       "<Figure size 432x288 with 1 Axes>"
      ]
     },
     "metadata": {
      "needs_background": "light"
     },
     "output_type": "display_data"
    }
   ],
   "source": [
    "# Dibujar la curva ROC\n",
    "plt.plot(fpr, tpr)\n",
    "plt.xlabel('Tasa de Falsos Positivos')\n",
    "plt.ylabel('Tasa de Verdaderos Positivos')\n",
    "plt.show()\n"
   ]
  },
  {
   "attachments": {},
   "cell_type": "markdown",
   "metadata": {},
   "source": [
    "Como la  curva ROC anterior está cerca del punto (0,1), significa que el modelo tiene un rendimiento excelente y es muy efectivo para diferenciar entre las dos clases."
   ]
  },
  {
   "attachments": {},
   "cell_type": "markdown",
   "metadata": {},
   "source": [
    "El AUC es una medida numérica del rendimiento del modelo, un modelo con un AUC cercano a 1 es considerado excelente, mientras que un modelo con un AUC cercano a 0.5 es considerado similar al rendimiento de un modelo aleatorio."
   ]
  },
  {
   "cell_type": "code",
   "execution_count": 58,
   "metadata": {},
   "outputs": [
    {
     "name": "stdout",
     "output_type": "stream",
     "text": [
      "0.9489273846239111\n"
     ]
    }
   ],
   "source": [
    "from sklearn.metrics import roc_auc_score\n",
    "\n",
    "# Obtener las probabilidades de la clase positiva para el conjunto de prueba\n",
    "y_probas = clf.predict_proba(X_test)\n",
    "\n",
    "# Calcular el AUC\n",
    "auc = roc_auc_score(y_test, y_probas[:, 1])\n",
    "print(auc)\n"
   ]
  },
  {
   "attachments": {},
   "cell_type": "markdown",
   "metadata": {},
   "source": [
    "como vemos es cercano a 1 lo cual indica que es un modelo con un rendimiento excelente."
   ]
  }
 ],
 "metadata": {
  "kernelspec": {
   "display_name": "Python 3",
   "language": "python",
   "name": "python3"
  },
  "language_info": {
   "codemirror_mode": {
    "name": "ipython",
    "version": 3
   },
   "file_extension": ".py",
   "mimetype": "text/x-python",
   "name": "python",
   "nbconvert_exporter": "python",
   "pygments_lexer": "ipython3",
   "version": "3.10.5"
  },
  "orig_nbformat": 4,
  "vscode": {
   "interpreter": {
    "hash": "680909a85cd0f96ba1c50ae49c7276dc4874e63b5fd1d1624a0b59680dc2cd74"
   }
  }
 },
 "nbformat": 4,
 "nbformat_minor": 2
}
