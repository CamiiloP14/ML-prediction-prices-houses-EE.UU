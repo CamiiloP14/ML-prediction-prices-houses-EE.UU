{
 "cells": [
  {
   "attachments": {},
   "cell_type": "markdown",
   "metadata": {},
   "source": [
    "Este segundo notebook es para entrenar un modelo de aprendizaje no supervisado utiliznado el dataset 'test.arquet' el cual nos ayudará a agrupar los datos en 3 categorías: 'low', 'medium', 'hight'."
   ]
  },
  {
   "cell_type": "code",
   "execution_count": 180,
   "metadata": {},
   "outputs": [],
   "source": [
    "#importamos las librerias necesarias\n",
    "import pandas as pd\n",
    "import matplotlib.pyplot as plt\n",
    "import seaborn as sns\n",
    "import sklearn"
   ]
  },
  {
   "cell_type": "code",
   "execution_count": 181,
   "metadata": {},
   "outputs": [],
   "source": [
    "\n",
    "test_df=pd.read_parquet(r\"Datasets/test.parquet\")\n"
   ]
  },
  {
   "cell_type": "code",
   "execution_count": 182,
   "metadata": {},
   "outputs": [
    {
     "data": {
      "text/plain": [
       "id                             0\n",
       "url                            0\n",
       "region                         0\n",
       "region_url                     0\n",
       "type                           0\n",
       "sqfeet                         0\n",
       "beds                           0\n",
       "baths                          0\n",
       "cats_allowed                   0\n",
       "dogs_allowed                   0\n",
       "smoking_allowed                0\n",
       "wheelchair_access              0\n",
       "electric_vehicle_charge        0\n",
       "comes_furnished                0\n",
       "laundry_options             7855\n",
       "parking_options            14005\n",
       "image_url                      0\n",
       "description                    0\n",
       "lat                          196\n",
       "long                         196\n",
       "state                          0\n",
       "dtype: int64"
      ]
     },
     "execution_count": 182,
     "metadata": {},
     "output_type": "execute_result"
    }
   ],
   "source": [
    "test_df.isnull().sum()"
   ]
  },
  {
   "attachments": {},
   "cell_type": "markdown",
   "metadata": {},
   "source": [
    "borramos los caracteristicas nulas"
   ]
  },
  {
   "cell_type": "code",
   "execution_count": 183,
   "metadata": {},
   "outputs": [],
   "source": [
    "test_df.dropna(axis=1,inplace=True)"
   ]
  },
  {
   "cell_type": "code",
   "execution_count": 184,
   "metadata": {},
   "outputs": [
    {
     "data": {
      "text/plain": [
       "id                         0\n",
       "url                        0\n",
       "region                     0\n",
       "region_url                 0\n",
       "type                       0\n",
       "sqfeet                     0\n",
       "beds                       0\n",
       "baths                      0\n",
       "cats_allowed               0\n",
       "dogs_allowed               0\n",
       "smoking_allowed            0\n",
       "wheelchair_access          0\n",
       "electric_vehicle_charge    0\n",
       "comes_furnished            0\n",
       "image_url                  0\n",
       "description                0\n",
       "state                      0\n",
       "dtype: int64"
      ]
     },
     "execution_count": 184,
     "metadata": {},
     "output_type": "execute_result"
    }
   ],
   "source": [
    "test_df.isnull().sum()"
   ]
  },
  {
   "cell_type": "code",
   "execution_count": 185,
   "metadata": {},
   "outputs": [
    {
     "data": {
      "text/html": [
       "<div>\n",
       "<style scoped>\n",
       "    .dataframe tbody tr th:only-of-type {\n",
       "        vertical-align: middle;\n",
       "    }\n",
       "\n",
       "    .dataframe tbody tr th {\n",
       "        vertical-align: top;\n",
       "    }\n",
       "\n",
       "    .dataframe thead th {\n",
       "        text-align: right;\n",
       "    }\n",
       "</style>\n",
       "<table border=\"1\" class=\"dataframe\">\n",
       "  <thead>\n",
       "    <tr style=\"text-align: right;\">\n",
       "      <th></th>\n",
       "      <th>id</th>\n",
       "      <th>url</th>\n",
       "      <th>region</th>\n",
       "      <th>region_url</th>\n",
       "      <th>type</th>\n",
       "      <th>sqfeet</th>\n",
       "      <th>beds</th>\n",
       "      <th>baths</th>\n",
       "      <th>cats_allowed</th>\n",
       "      <th>dogs_allowed</th>\n",
       "      <th>smoking_allowed</th>\n",
       "      <th>wheelchair_access</th>\n",
       "      <th>electric_vehicle_charge</th>\n",
       "      <th>comes_furnished</th>\n",
       "      <th>image_url</th>\n",
       "      <th>description</th>\n",
       "      <th>state</th>\n",
       "    </tr>\n",
       "  </thead>\n",
       "  <tbody>\n",
       "    <tr>\n",
       "      <th>0</th>\n",
       "      <td>7037609789</td>\n",
       "      <td>https://annarbor.craigslist.org/apa/d/wixom-ho...</td>\n",
       "      <td>9</td>\n",
       "      <td>https://annarbor.craigslist.org</td>\n",
       "      <td>8</td>\n",
       "      <td>1344</td>\n",
       "      <td>3</td>\n",
       "      <td>3</td>\n",
       "      <td>0</td>\n",
       "      <td>0</td>\n",
       "      <td>1</td>\n",
       "      <td>0</td>\n",
       "      <td>0</td>\n",
       "      <td>0</td>\n",
       "      <td>https://images.craigslist.org/00M0M_iNczP1nzIL...</td>\n",
       "      <td>OPEN HOUSE TODAY! APPLY THIS WEEK, PUT A HOLDI...</td>\n",
       "      <td>22</td>\n",
       "    </tr>\n",
       "    <tr>\n",
       "      <th>1</th>\n",
       "      <td>7032406876</td>\n",
       "      <td>https://vermont.craigslist.org/apa/d/randolph-...</td>\n",
       "      <td>370</td>\n",
       "      <td>https://vermont.craigslist.org</td>\n",
       "      <td>0</td>\n",
       "      <td>1050</td>\n",
       "      <td>2</td>\n",
       "      <td>1</td>\n",
       "      <td>0</td>\n",
       "      <td>0</td>\n",
       "      <td>1</td>\n",
       "      <td>0</td>\n",
       "      <td>0</td>\n",
       "      <td>0</td>\n",
       "      <td>https://images.craigslist.org/00L0L_ecirmYBIzL...</td>\n",
       "      <td>Think of it, you'll be first to get your mail....</td>\n",
       "      <td>46</td>\n",
       "    </tr>\n",
       "    <tr>\n",
       "      <th>2</th>\n",
       "      <td>7037022682</td>\n",
       "      <td>https://annarbor.craigslist.org/apa/d/ann-arbo...</td>\n",
       "      <td>9</td>\n",
       "      <td>https://annarbor.craigslist.org</td>\n",
       "      <td>0</td>\n",
       "      <td>1150</td>\n",
       "      <td>2</td>\n",
       "      <td>3</td>\n",
       "      <td>1</td>\n",
       "      <td>1</td>\n",
       "      <td>1</td>\n",
       "      <td>1</td>\n",
       "      <td>0</td>\n",
       "      <td>0</td>\n",
       "      <td>https://images.craigslist.org/00e0e_dPln2xjo9g...</td>\n",
       "      <td>One of Ann Arbor's most luxurious apartment co...</td>\n",
       "      <td>22</td>\n",
       "    </tr>\n",
       "  </tbody>\n",
       "</table>\n",
       "</div>"
      ],
      "text/plain": [
       "           id                                                url  region  \\\n",
       "0  7037609789  https://annarbor.craigslist.org/apa/d/wixom-ho...       9   \n",
       "1  7032406876  https://vermont.craigslist.org/apa/d/randolph-...     370   \n",
       "2  7037022682  https://annarbor.craigslist.org/apa/d/ann-arbo...       9   \n",
       "\n",
       "                        region_url  type  sqfeet  beds  baths  cats_allowed  \\\n",
       "0  https://annarbor.craigslist.org     8    1344     3      3             0   \n",
       "1   https://vermont.craigslist.org     0    1050     2      1             0   \n",
       "2  https://annarbor.craigslist.org     0    1150     2      3             1   \n",
       "\n",
       "   dogs_allowed  smoking_allowed  wheelchair_access  electric_vehicle_charge  \\\n",
       "0             0                1                  0                        0   \n",
       "1             0                1                  0                        0   \n",
       "2             1                1                  1                        0   \n",
       "\n",
       "   comes_furnished                                          image_url  \\\n",
       "0                0  https://images.craigslist.org/00M0M_iNczP1nzIL...   \n",
       "1                0  https://images.craigslist.org/00L0L_ecirmYBIzL...   \n",
       "2                0  https://images.craigslist.org/00e0e_dPln2xjo9g...   \n",
       "\n",
       "                                         description  state  \n",
       "0  OPEN HOUSE TODAY! APPLY THIS WEEK, PUT A HOLDI...     22  \n",
       "1  Think of it, you'll be first to get your mail....     46  \n",
       "2  One of Ann Arbor's most luxurious apartment co...     22  "
      ]
     },
     "execution_count": 185,
     "metadata": {},
     "output_type": "execute_result"
    }
   ],
   "source": [
    "from sklearn.preprocessing import LabelEncoder\n",
    "labelencoder = LabelEncoder()\n",
    "\n",
    "test_df['region']=labelencoder.fit_transform(test_df['region'])\n",
    "test_df['type']=labelencoder.fit_transform(test_df['type'])\n",
    "test_df['baths']=labelencoder.fit_transform(test_df['baths'])\n",
    "test_df['state']=labelencoder.fit_transform(test_df['state'])\n",
    "\n",
    "test_df.head(3)"
   ]
  },
  {
   "attachments": {},
   "cell_type": "markdown",
   "metadata": {},
   "source": [
    "borramos las columnas que contienen texto"
   ]
  },
  {
   "cell_type": "code",
   "execution_count": 186,
   "metadata": {},
   "outputs": [],
   "source": [
    "test_df.drop(['id','url','region_url','image_url', 'description'], axis=1, inplace=True)"
   ]
  },
  {
   "cell_type": "code",
   "execution_count": 187,
   "metadata": {},
   "outputs": [
    {
     "name": "stdout",
     "output_type": "stream",
     "text": [
      "<class 'pandas.core.frame.DataFrame'>\n",
      "RangeIndex: 38498 entries, 0 to 38497\n",
      "Data columns (total 12 columns):\n",
      " #   Column                   Non-Null Count  Dtype\n",
      "---  ------                   --------------  -----\n",
      " 0   region                   38498 non-null  int32\n",
      " 1   type                     38498 non-null  int32\n",
      " 2   sqfeet                   38498 non-null  int64\n",
      " 3   beds                     38498 non-null  int64\n",
      " 4   baths                    38498 non-null  int64\n",
      " 5   cats_allowed             38498 non-null  int64\n",
      " 6   dogs_allowed             38498 non-null  int64\n",
      " 7   smoking_allowed          38498 non-null  int64\n",
      " 8   wheelchair_access        38498 non-null  int64\n",
      " 9   electric_vehicle_charge  38498 non-null  int64\n",
      " 10  comes_furnished          38498 non-null  int64\n",
      " 11  state                    38498 non-null  int32\n",
      "dtypes: int32(3), int64(9)\n",
      "memory usage: 3.1 MB\n"
     ]
    }
   ],
   "source": [
    "test_df.info()"
   ]
  },
  {
   "cell_type": "code",
   "execution_count": 188,
   "metadata": {},
   "outputs": [],
   "source": [
    "from sklearn.cluster import KMeans\n",
    "X = test_df[['region','type','sqfeet', 'beds','baths','cats_allowed', 'dogs_allowed', 'smoking_allowed','wheelchair_access', 'electric_vehicle_charge', 'comes_furnished',  'state']]\n"
   ]
  },
  {
   "cell_type": "code",
   "execution_count": 189,
   "metadata": {},
   "outputs": [],
   "source": [
    "#instanciamos Kmeans\n",
    "model = KMeans(n_clusters=3, random_state=42) \n",
    "\n",
    "#entremos el modelo\n",
    "test_kmeans = model.fit(X)"
   ]
  },
  {
   "cell_type": "code",
   "execution_count": 190,
   "metadata": {},
   "outputs": [],
   "source": [
    "#aqui, corroboramos la etiqueta que el mododelo asocio a cada una de\n",
    "#las instancias.\n",
    "labels = test_kmeans.labels_\n",
    "centroid = test_kmeans.cluster_centers_"
   ]
  },
  {
   "cell_type": "code",
   "execution_count": 191,
   "metadata": {},
   "outputs": [
    {
     "name": "stdout",
     "output_type": "stream",
     "text": [
      "Puntaje de silueta: 0.563\n"
     ]
    }
   ],
   "source": [
    "from sklearn.metrics import silhouette_score\n",
    "\n",
    "# X es el conjunto de datos\n",
    "# labels es el arreglo de etiquetas asignadas para el modelo k-means\n",
    "score = silhouette_score(X, labels, metric='euclidean')\n",
    "print(\"Puntaje de silueta: {:.3f}\".format(score))\n"
   ]
  },
  {
   "attachments": {},
   "cell_type": "markdown",
   "metadata": {},
   "source": [
    "escogiendo las tres mejores caracteristicas"
   ]
  },
  {
   "cell_type": "code",
   "execution_count": 192,
   "metadata": {},
   "outputs": [
    {
     "name": "stdout",
     "output_type": "stream",
     "text": [
      "Puntaje de silueta: 0.624\n"
     ]
    }
   ],
   "source": [
    "from sklearn.feature_selection import SelectKBest\n",
    "from sklearn.feature_selection import mutual_info_classif\n",
    "\n",
    "# Selección de las mejores 3 características\n",
    "selector = SelectKBest(score_func=mutual_info_classif, k=3)\n",
    "X_new = selector.fit_transform(X, labels)\n",
    "\n",
    "# Entrenamiento del modelo k-means con las características seleccionadas\n",
    "model = KMeans(n_clusters=3, random_state=42) \n",
    "test_kmeans = model.fit(X_new)\n",
    "\n",
    "# Evaluación del modelo con la métrica Silhouette Score\n",
    "labels = test_kmeans.labels_\n",
    "score = silhouette_score(X_new, labels, metric='euclidean')\n",
    "print(\"Puntaje de silueta: {:.3f}\".format(score))\n"
   ]
  },
  {
   "cell_type": "code",
   "execution_count": 193,
   "metadata": {},
   "outputs": [
    {
     "data": {
      "text/plain": [
       "38498"
      ]
     },
     "execution_count": 193,
     "metadata": {},
     "output_type": "execute_result"
    }
   ],
   "source": [
    "len(labels)"
   ]
  },
  {
   "cell_type": "code",
   "execution_count": 194,
   "metadata": {},
   "outputs": [],
   "source": [
    "clusters=pd.DataFrame(labels, columns=['pred'])\n",
    "clusters.to_csv('CamiiloP14(1).csv', index=False)"
   ]
  },
  {
   "cell_type": "code",
   "execution_count": 195,
   "metadata": {},
   "outputs": [
    {
     "data": {
      "text/html": [
       "<div>\n",
       "<style scoped>\n",
       "    .dataframe tbody tr th:only-of-type {\n",
       "        vertical-align: middle;\n",
       "    }\n",
       "\n",
       "    .dataframe tbody tr th {\n",
       "        vertical-align: top;\n",
       "    }\n",
       "\n",
       "    .dataframe thead th {\n",
       "        text-align: right;\n",
       "    }\n",
       "</style>\n",
       "<table border=\"1\" class=\"dataframe\">\n",
       "  <thead>\n",
       "    <tr style=\"text-align: right;\">\n",
       "      <th></th>\n",
       "      <th>pred</th>\n",
       "    </tr>\n",
       "  </thead>\n",
       "  <tbody>\n",
       "    <tr>\n",
       "      <th>0</th>\n",
       "      <td>0</td>\n",
       "    </tr>\n",
       "    <tr>\n",
       "      <th>1</th>\n",
       "      <td>1</td>\n",
       "    </tr>\n",
       "    <tr>\n",
       "      <th>2</th>\n",
       "      <td>1</td>\n",
       "    </tr>\n",
       "    <tr>\n",
       "      <th>3</th>\n",
       "      <td>0</td>\n",
       "    </tr>\n",
       "    <tr>\n",
       "      <th>4</th>\n",
       "      <td>1</td>\n",
       "    </tr>\n",
       "    <tr>\n",
       "      <th>...</th>\n",
       "      <td>...</td>\n",
       "    </tr>\n",
       "    <tr>\n",
       "      <th>38493</th>\n",
       "      <td>1</td>\n",
       "    </tr>\n",
       "    <tr>\n",
       "      <th>38494</th>\n",
       "      <td>1</td>\n",
       "    </tr>\n",
       "    <tr>\n",
       "      <th>38495</th>\n",
       "      <td>1</td>\n",
       "    </tr>\n",
       "    <tr>\n",
       "      <th>38496</th>\n",
       "      <td>0</td>\n",
       "    </tr>\n",
       "    <tr>\n",
       "      <th>38497</th>\n",
       "      <td>1</td>\n",
       "    </tr>\n",
       "  </tbody>\n",
       "</table>\n",
       "<p>38498 rows × 1 columns</p>\n",
       "</div>"
      ],
      "text/plain": [
       "       pred\n",
       "0         0\n",
       "1         1\n",
       "2         1\n",
       "3         0\n",
       "4         1\n",
       "...     ...\n",
       "38493     1\n",
       "38494     1\n",
       "38495     1\n",
       "38496     0\n",
       "38497     1\n",
       "\n",
       "[38498 rows x 1 columns]"
      ]
     },
     "execution_count": 195,
     "metadata": {},
     "output_type": "execute_result"
    }
   ],
   "source": [
    "pd.read_csv('CamiiloP14(1).csv')"
   ]
  }
 ],
 "metadata": {
  "kernelspec": {
   "display_name": "Python 3",
   "language": "python",
   "name": "python3"
  },
  "language_info": {
   "codemirror_mode": {
    "name": "ipython",
    "version": 3
   },
   "file_extension": ".py",
   "mimetype": "text/x-python",
   "name": "python",
   "nbconvert_exporter": "python",
   "pygments_lexer": "ipython3",
   "version": "3.10.5"
  },
  "orig_nbformat": 4,
  "vscode": {
   "interpreter": {
    "hash": "680909a85cd0f96ba1c50ae49c7276dc4874e63b5fd1d1624a0b59680dc2cd74"
   }
  }
 },
 "nbformat": 4,
 "nbformat_minor": 2
}
